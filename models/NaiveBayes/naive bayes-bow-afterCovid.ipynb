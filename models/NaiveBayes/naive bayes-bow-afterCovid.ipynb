{
 "cells": [
  {
   "cell_type": "code",
   "execution_count": 1,
   "metadata": {
    "id": "SNMJqoIa6HxS"
   },
   "outputs": [],
   "source": [
    "from sklearn.feature_extraction.text import CountVectorizer\n",
    "from sklearn.model_selection import train_test_split\n",
    "from sklearn.naive_bayes import BernoulliNB\n",
    "from sklearn.metrics import accuracy_score\n",
    "from sklearn import metrics\n",
    "from sklearn.model_selection import cross_val_score\n",
    "\n",
    "import joblib\n",
    "import pandas as pd\n",
    "import numpy as np\n",
    "import re\n",
    "import os\n",
    "import pickle\n",
    "import json\n",
    "import seaborn as sns\n",
    "import matplotlib.pyplot as plt\n",
    "%matplotlib inline"
   ]
  },
  {
   "cell_type": "code",
   "execution_count": 2,
   "metadata": {
    "id": "EnftVfWq63ws"
   },
   "outputs": [],
   "source": [
    "df_train = pd.read_csv(\"../../traindata_2020_afterCovid.csv\")\n",
    "df_test = pd.read_csv(\"../../testdata_2021_afterCovid.csv\")"
   ]
  },
  {
   "cell_type": "code",
   "execution_count": 3,
   "metadata": {
    "id": "r-FmxGoT63yY"
   },
   "outputs": [],
   "source": [
    "# train set\n",
    "reviews_train = list(df_train[\"clean_review\"])\n",
    "sentiments_train = list(df_train[\"sentiment\"])\n",
    "# test set\n",
    "reviews_test = list(df_test[\"clean_review\"])\n",
    "sentiments_test = list(df_test[\"sentiment\"])"
   ]
  },
  {
   "cell_type": "code",
   "execution_count": 4,
   "metadata": {
    "id": "XT8D4r3Q63uP"
   },
   "outputs": [],
   "source": [
    "vectorizer = CountVectorizer(analyzer=\"word\", max_features=5000)\n",
    "\n",
    "X_train = vectorizer.fit_transform(reviews_train)\n",
    "y_train = np.array(sentiments_train)\n",
    "\n",
    "X_test = vectorizer.transform(reviews_test)\n",
    "y_test = np.array(sentiments_test)"
   ]
  },
  {
   "cell_type": "code",
   "execution_count": 5,
   "metadata": {
    "colab": {
     "base_uri": "https://localhost:8080/"
    },
    "executionInfo": {
     "elapsed": 1385,
     "status": "ok",
     "timestamp": 1636284671502,
     "user": {
      "displayName": "성균관대학교이선홍",
      "photoUrl": "https://lh3.googleusercontent.com/a/default-user=s64",
      "userId": "13996425026101792854"
     },
     "user_tz": -540
    },
    "id": "jZcYIBOE630u",
    "outputId": "6207e7fd-118d-46f6-fba2-f6a1f2e7be19"
   },
   "outputs": [],
   "source": [
    "nb = BernoulliNB()\n",
    "nb.fit(X_train, y_train)\n",
    "nb_pred = nb.predict(X_test)"
   ]
  },
  {
   "cell_type": "code",
   "execution_count": 6,
   "metadata": {
    "colab": {
     "base_uri": "https://localhost:8080/"
    },
    "executionInfo": {
     "elapsed": 33,
     "status": "ok",
     "timestamp": 1636284671504,
     "user": {
      "displayName": "성균관대학교이선홍",
      "photoUrl": "https://lh3.googleusercontent.com/a/default-user=s64",
      "userId": "13996425026101792854"
     },
     "user_tz": -540
    },
    "id": "8XFaN840-yhG",
    "outputId": "f0a364c6-4b49-4472-fa00-8e5ce43b053d"
   },
   "outputs": [
    {
     "name": "stdout",
     "output_type": "stream",
     "text": [
      "Accuracy: 0.823369\n"
     ]
    }
   ],
   "source": [
    "print(\"Accuracy: %f\" % accuracy_score(y_test, nb_pred))"
   ]
  },
  {
   "cell_type": "code",
   "execution_count": 7,
   "metadata": {
    "colab": {
     "base_uri": "https://localhost:8080/",
     "height": 343
    },
    "executionInfo": {
     "elapsed": 528,
     "status": "ok",
     "timestamp": 1636284672012,
     "user": {
      "displayName": "성균관대학교이선홍",
      "photoUrl": "https://lh3.googleusercontent.com/a/default-user=s64",
      "userId": "13996425026101792854"
     },
     "user_tz": -540
    },
    "id": "wMi68PHU_In0",
    "outputId": "3cafa8d1-188f-4691-d740-20b96d939458"
   },
   "outputs": [
    {
     "data": {
      "text/plain": [
       "Text(0.5, 257.44, 'Predicted label')"
      ]
     },
     "execution_count": 7,
     "metadata": {},
     "output_type": "execute_result"
    },
    {
     "data": {
      "image/png": "[encoded data removed]",
      "text/plain": [
       "<Figure size 432x288 with 2 Axes>"
      ]
     },
     "metadata": {
      "needs_background": "light"
     },
     "output_type": "display_data"
    }
   ],
   "source": [
    "cnf_matrix = metrics.confusion_matrix(y_test, nb_pred)\n",
    "\n",
    "class_names=[0,1] # name  of classes\n",
    "fig, ax = plt.subplots()\n",
    "tick_marks = np.arange(len(class_names))\n",
    "plt.xticks(tick_marks, class_names)\n",
    "plt.yticks(tick_marks, class_names)\n",
    "# create heatmap\n",
    "sns.heatmap(pd.DataFrame(cnf_matrix), annot=True, cmap=\"YlGnBu\" ,fmt='g')\n",
    "ax.xaxis.set_label_position(\"top\")\n",
    "plt.tight_layout()\n",
    "plt.title('Confusion matrix', y=1.1)\n",
    "plt.ylabel('Actual label')\n",
    "plt.xlabel('Predicted label')"
   ]
  },
  {
   "cell_type": "code",
   "execution_count": 8,
   "metadata": {
    "colab": {
     "base_uri": "https://localhost:8080/"
    },
    "executionInfo": {
     "elapsed": 15,
     "status": "ok",
     "timestamp": 1636284673652,
     "user": {
      "displayName": "성균관대학교이선홍",
      "photoUrl": "https://lh3.googleusercontent.com/a/default-user=s64",
      "userId": "13996425026101792854"
     },
     "user_tz": -540
    },
    "id": "UfrrtiJ-ym8y",
    "outputId": "58cfe948-33ae-4cb3-eae6-f6e944a4b0c8"
   },
   "outputs": [
    {
     "name": "stdout",
     "output_type": "stream",
     "text": [
      "Accuracy: 0.8233689061363085\n",
      "Precision: 0.8078743794019166\n",
      "Recall: 0.8485326218772739\n",
      "F1-score: 0.8277045010942213\n"
     ]
    }
   ],
   "source": [
    "print(\"Accuracy:\",metrics.accuracy_score(y_test, nb_pred))\n",
    "print(\"Precision:\",metrics.precision_score(y_test, nb_pred))\n",
    "print(\"Recall:\",metrics.recall_score(y_test, nb_pred))\n",
    "print(\"F1-score:\",metrics.f1_score(y_test, nb_pred))"
   ]
  },
  {
   "cell_type": "code",
   "execution_count": 9,
   "metadata": {
    "colab": {
     "base_uri": "https://localhost:8080/"
    },
    "executionInfo": {
     "elapsed": 299,
     "status": "ok",
     "timestamp": 1636284676301,
     "user": {
      "displayName": "성균관대학교이선홍",
      "photoUrl": "https://lh3.googleusercontent.com/a/default-user=s64",
      "userId": "13996425026101792854"
     },
     "user_tz": -540
    },
    "id": "2pVh0RZiyrnP",
    "outputId": "5462b444-068c-4de4-c2fc-6860e0e57ca9"
   },
   "outputs": [
    {
     "name": "stdout",
     "output_type": "stream",
     "text": [
      "              precision    recall  f1-score   support\n",
      "\n",
      "   class low       0.84      0.80      0.82      8246\n",
      "  class high       0.81      0.85      0.83      8246\n",
      "\n",
      "    accuracy                           0.82     16492\n",
      "   macro avg       0.82      0.82      0.82     16492\n",
      "weighted avg       0.82      0.82      0.82     16492\n",
      "\n"
     ]
    }
   ],
   "source": [
    "from sklearn.metrics import classification_report\n",
    "\n",
    "print(classification_report(y_test, nb_pred, target_names=['class low', 'class high']))"
   ]
  },
  {
   "cell_type": "code",
   "execution_count": 10,
   "metadata": {
    "colab": {
     "base_uri": "https://localhost:8080/"
    },
    "executionInfo": {
     "elapsed": 315,
     "status": "ok",
     "timestamp": 1636284680538,
     "user": {
      "displayName": "성균관대학교이선홍",
      "photoUrl": "https://lh3.googleusercontent.com/a/default-user=s64",
      "userId": "13996425026101792854"
     },
     "user_tz": -540
    },
    "id": "MgyZCR94YgzF",
    "outputId": "eeb7daa5-007c-4f40-9db7-4865608ce95b"
   },
   "outputs": [
    {
     "name": "stdout",
     "output_type": "stream",
     "text": [
      "8246\n",
      "16492\n"
     ]
    }
   ],
   "source": [
    "y_test = np.array(sentiments_test)\n",
    "print(y_test.sum())\n",
    "print(len(y_test))\n"
   ]
  },
  {
   "cell_type": "code",
   "execution_count": 11,
   "metadata": {
    "id": "b7LL5hPyKvXa"
   },
   "outputs": [],
   "source": [
    "report = classification_report(y_test, nb_pred, target_names=['class low', 'class high'], output_dict=True)"
   ]
  },
  {
   "cell_type": "code",
   "execution_count": 12,
   "metadata": {
    "colab": {
     "base_uri": "https://localhost:8080/",
     "height": 204
    },
    "executionInfo": {
     "elapsed": 327,
     "status": "ok",
     "timestamp": 1636284739175,
     "user": {
      "displayName": "성균관대학교이선홍",
      "photoUrl": "https://lh3.googleusercontent.com/a/default-user=s64",
      "userId": "13996425026101792854"
     },
     "user_tz": -540
    },
    "id": "1sNDGveBYl0F",
    "outputId": "df4cd887-286a-4df7-f9a4-bd6b85ed8747"
   },
   "outputs": [
    {
     "data": {
      "text/html": [
       "<div>\n",
       "<style scoped>\n",
       "    .dataframe tbody tr th:only-of-type {\n",
       "        vertical-align: middle;\n",
       "    }\n",
       "\n",
       "    .dataframe tbody tr th {\n",
       "        vertical-align: top;\n",
       "    }\n",
       "\n",
       "    .dataframe thead th {\n",
       "        text-align: right;\n",
       "    }\n",
       "</style>\n",
       "<table border=\"1\" class=\"dataframe\">\n",
       "  <thead>\n",
       "    <tr style=\"text-align: right;\">\n",
       "      <th></th>\n",
       "      <th>precision</th>\n",
       "      <th>recall</th>\n",
       "      <th>f1-score</th>\n",
       "      <th>support</th>\n",
       "    </tr>\n",
       "  </thead>\n",
       "  <tbody>\n",
       "    <tr>\n",
       "      <th>class low</th>\n",
       "      <td>0.840506</td>\n",
       "      <td>0.798205</td>\n",
       "      <td>0.818809</td>\n",
       "      <td>8246.000000</td>\n",
       "    </tr>\n",
       "    <tr>\n",
       "      <th>class high</th>\n",
       "      <td>0.807874</td>\n",
       "      <td>0.848533</td>\n",
       "      <td>0.827705</td>\n",
       "      <td>8246.000000</td>\n",
       "    </tr>\n",
       "    <tr>\n",
       "      <th>accuracy</th>\n",
       "      <td>0.823369</td>\n",
       "      <td>0.823369</td>\n",
       "      <td>0.823369</td>\n",
       "      <td>0.823369</td>\n",
       "    </tr>\n",
       "    <tr>\n",
       "      <th>macro avg</th>\n",
       "      <td>0.824190</td>\n",
       "      <td>0.823369</td>\n",
       "      <td>0.823257</td>\n",
       "      <td>16492.000000</td>\n",
       "    </tr>\n",
       "    <tr>\n",
       "      <th>weighted avg</th>\n",
       "      <td>0.824190</td>\n",
       "      <td>0.823369</td>\n",
       "      <td>0.823257</td>\n",
       "      <td>16492.000000</td>\n",
       "    </tr>\n",
       "  </tbody>\n",
       "</table>\n",
       "</div>"
      ],
      "text/plain": [
       "              precision    recall  f1-score       support\n",
       "class low      0.840506  0.798205  0.818809   8246.000000\n",
       "class high     0.807874  0.848533  0.827705   8246.000000\n",
       "accuracy       0.823369  0.823369  0.823369      0.823369\n",
       "macro avg      0.824190  0.823369  0.823257  16492.000000\n",
       "weighted avg   0.824190  0.823369  0.823257  16492.000000"
      ]
     },
     "execution_count": 12,
     "metadata": {},
     "output_type": "execute_result"
    }
   ],
   "source": [
    "report = classification_report(y_test, nb_pred, target_names=['class low', 'class high'], output_dict=True)\n",
    "df = pd.DataFrame(report).transpose()\n",
    "\n",
    "df"
   ]
  },
  {
   "cell_type": "code",
   "execution_count": 13,
   "metadata": {
    "id": "adziRfeyK6sT"
   },
   "outputs": [
    {
     "data": {
      "text/plain": [
       "['./nb_bow_afterCovid_0.823369']"
      ]
     },
     "execution_count": 13,
     "metadata": {},
     "output_type": "execute_result"
    }
   ],
   "source": [
    "# 모델 저장\n",
    "joblib.dump(nb, './nb_bow_afterCovid_0.823369')"
   ]
  },
  {
   "cell_type": "code",
   "execution_count": null,
   "metadata": {},
   "outputs": [],
   "source": []
  }
 ],
 "metadata": {
  "colab": {
   "authorship_tag": "ABX9TyNTJpchk473stfWKmfm1a0M",
   "collapsed_sections": [],
   "mount_file_id": "1D1RiXqVxsQl1noWKn2cZOxmCtqbnZ8TD",
   "name": "logistic-bow.ipynb",
   "provenance": []
  },
  "kernelspec": {
   "display_name": "Python 3",
   "language": "python",
   "name": "python3"
  },
  "language_info": {
   "codemirror_mode": {
    "name": "ipython",
    "version": 3
   },
   "file_extension": ".py",
   "mimetype": "text/x-python",
   "name": "python",
   "nbconvert_exporter": "python",
   "pygments_lexer": "ipython3",
   "version": "3.7.6"
  }
 },
 "nbformat": 4,
 "nbformat_minor": 1
}
