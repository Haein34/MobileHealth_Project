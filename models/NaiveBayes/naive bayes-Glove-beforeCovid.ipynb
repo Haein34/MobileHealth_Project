{
 "cells": [
  {
   "cell_type": "code",
   "execution_count": 1,
   "metadata": {
    "colab": {
     "base_uri": "https://localhost:8080/"
    },
    "executionInfo": {
     "elapsed": 4610,
     "status": "ok",
     "timestamp": 1636348153457,
     "user": {
      "displayName": "성균관대학교이선홍",
      "photoUrl": "https://lh3.googleusercontent.com/a/default-user=s64",
      "userId": "13996425026101792854"
     },
     "user_tz": -540
    },
    "id": "h3lBrVs1AQm_",
    "outputId": "3e1901a1-eb49-426e-8b59-f7c63a9303b0"
   },
   "outputs": [
    {
     "name": "stdout",
     "output_type": "stream",
     "text": [
      "Requirement already satisfied: glove_python_binary in c:\\users\\life\\anaconda3\\lib\\site-packages (0.2.0)\n",
      "Requirement already satisfied: numpy in c:\\users\\life\\anaconda3\\lib\\site-packages (from glove_python_binary) (1.18.1)\n",
      "Requirement already satisfied: scipy in c:\\users\\life\\anaconda3\\lib\\site-packages (from glove_python_binary) (1.4.1)\n"
     ]
    },
    {
     "name": "stderr",
     "output_type": "stream",
     "text": [
      "WARNING: You are using pip version 21.2.3; however, version 21.3.1 is available.\n",
      "You should consider upgrading via the 'c:\\users\\life\\anaconda3\\python.exe -m pip install --upgrade pip' command.\n"
     ]
    }
   ],
   "source": [
    "! pip install glove_python_binary"
   ]
  },
  {
   "cell_type": "code",
   "execution_count": 2,
   "metadata": {
    "executionInfo": {
     "elapsed": 687,
     "status": "ok",
     "timestamp": 1636348154136,
     "user": {
      "displayName": "성균관대학교이선홍",
      "photoUrl": "https://lh3.googleusercontent.com/a/default-user=s64",
      "userId": "13996425026101792854"
     },
     "user_tz": -540
    },
    "id": "TEgB47jiBfS2"
   },
   "outputs": [],
   "source": [
    "from glove import Corpus, Glove\n",
    "from sklearn.model_selection import train_test_split\n",
    "from sklearn.naive_bayes import BernoulliNB\n",
    "from sklearn.metrics import accuracy_score\n",
    "from sklearn import metrics\n",
    "\n",
    "import joblib\n",
    "import pandas as pd\n",
    "import numpy as np\n",
    "import re\n",
    "import os\n",
    "import pickle\n",
    "import json\n",
    "import seaborn as sns\n",
    "import matplotlib.pyplot as plt\n",
    "%matplotlib inline"
   ]
  },
  {
   "cell_type": "code",
   "execution_count": 10,
   "metadata": {
    "executionInfo": {
     "elapsed": 1942,
     "status": "ok",
     "timestamp": 1636348156561,
     "user": {
      "displayName": "성균관대학교이선홍",
      "photoUrl": "https://lh3.googleusercontent.com/a/default-user=s64",
      "userId": "13996425026101792854"
     },
     "user_tz": -540
    },
    "id": "FLxTLKSPC7jx"
   },
   "outputs": [],
   "source": [
    "df_train = pd.read_csv(\"../../traindata_2015_2018_beforeCovid.csv\")\n",
    "df_test = pd.read_csv(\"../../testdata_2019_beforeCovid.csv\")"
   ]
  },
  {
   "cell_type": "code",
   "execution_count": 11,
   "metadata": {
    "executionInfo": {
     "elapsed": 5,
     "status": "ok",
     "timestamp": 1636348156562,
     "user": {
      "displayName": "성균관대학교이선홍",
      "photoUrl": "https://lh3.googleusercontent.com/a/default-user=s64",
      "userId": "13996425026101792854"
     },
     "user_tz": -540
    },
    "id": "UYyW2ZqVDDCV"
   },
   "outputs": [],
   "source": [
    "# train set\n",
    "reviews_train = list(df_train[\"clean_review\"])\n",
    "sentiments_train = list(df_train[\"sentiment\"])\n",
    "# test set\n",
    "reviews_test = list(df_test[\"clean_review\"])\n",
    "sentiments_test = list(df_test[\"sentiment\"])"
   ]
  },
  {
   "cell_type": "code",
   "execution_count": 12,
   "metadata": {
    "executionInfo": {
     "elapsed": 5,
     "status": "ok",
     "timestamp": 1636348156563,
     "user": {
      "displayName": "성균관대학교이선홍",
      "photoUrl": "https://lh3.googleusercontent.com/a/default-user=s64",
      "userId": "13996425026101792854"
     },
     "user_tz": -540
    },
    "id": "_E7lpIaiDNPj"
   },
   "outputs": [],
   "source": [
    "def token_split(reviews):\n",
    "    token_li = reviews.split()\n",
    "\n",
    "    return token_li"
   ]
  },
  {
   "cell_type": "code",
   "execution_count": 13,
   "metadata": {
    "executionInfo": {
     "elapsed": 350,
     "status": "ok",
     "timestamp": 1636348156909,
     "user": {
      "displayName": "성균관대학교이선홍",
      "photoUrl": "https://lh3.googleusercontent.com/a/default-user=s64",
      "userId": "13996425026101792854"
     },
     "user_tz": -540
    },
    "id": "dzdtg16TDf4J"
   },
   "outputs": [],
   "source": [
    "review_train_token_li = []\n",
    "review_test_token_li = []\n",
    "\n",
    "for i in reviews_train:\n",
    "    token_review = token_split(i)\n",
    "    review_train_token_li.append(token_review)\n",
    "\n",
    "for i in reviews_test:\n",
    "    token_review = token_split(i)\n",
    "    review_test_token_li.append(token_review)"
   ]
  },
  {
   "cell_type": "code",
   "execution_count": 14,
   "metadata": {
    "id": "uYVJDPCMBvcV"
   },
   "outputs": [],
   "source": [
    "corpus = Corpus()\n",
    "corpus.fit(review_train_token_li, window=20)"
   ]
  },
  {
   "cell_type": "code",
   "execution_count": 8,
   "metadata": {
    "colab": {
     "base_uri": "https://localhost:8080/"
    },
    "executionInfo": {
     "elapsed": 289121,
     "status": "ok",
     "timestamp": 1631346909017,
     "user": {
      "displayName": "성균관대학교이선홍",
      "photoUrl": "https://lh3.googleusercontent.com/a/default-user=s64",
      "userId": "13996425026101792854"
     },
     "user_tz": -540
    },
    "id": "q_KfikqWCwAQ",
    "outputId": "25c5c63e-f587-44f4-8f91-44cffbd7d8c9"
   },
   "outputs": [
    {
     "name": "stdout",
     "output_type": "stream",
     "text": [
      "Performing 50 training epochs with 4 threads\n",
      "Epoch 0\n",
      "Epoch 1\n",
      "Epoch 2\n",
      "Epoch 3\n",
      "Epoch 4\n",
      "Epoch 5\n",
      "Epoch 6\n",
      "Epoch 7\n",
      "Epoch 8\n",
      "Epoch 9\n",
      "Epoch 10\n",
      "Epoch 11\n",
      "Epoch 12\n",
      "Epoch 13\n",
      "Epoch 14\n",
      "Epoch 15\n",
      "Epoch 16\n",
      "Epoch 17\n",
      "Epoch 18\n",
      "Epoch 19\n",
      "Epoch 20\n",
      "Epoch 21\n",
      "Epoch 22\n",
      "Epoch 23\n",
      "Epoch 24\n",
      "Epoch 25\n",
      "Epoch 26\n",
      "Epoch 27\n",
      "Epoch 28\n",
      "Epoch 29\n",
      "Epoch 30\n",
      "Epoch 31\n",
      "Epoch 32\n",
      "Epoch 33\n",
      "Epoch 34\n",
      "Epoch 35\n",
      "Epoch 36\n",
      "Epoch 37\n",
      "Epoch 38\n",
      "Epoch 39\n",
      "Epoch 40\n",
      "Epoch 41\n",
      "Epoch 42\n",
      "Epoch 43\n",
      "Epoch 44\n",
      "Epoch 45\n",
      "Epoch 46\n",
      "Epoch 47\n",
      "Epoch 48\n",
      "Epoch 49\n",
      "Wall time: 21.8 s\n"
     ]
    }
   ],
   "source": [
    "glove = Glove(no_components=128, learning_rate=0.01)\n",
    "%time glove.fit(corpus.matrix, epochs=50, no_threads=4, verbose=True)\n",
    "glove.add_dictionary(corpus.dictionary)\n",
    "\n",
    "glove.save(\"../glove_w20_epoch50_beforecovid_model\")"
   ]
  },
  {
   "cell_type": "code",
   "execution_count": 15,
   "metadata": {
    "executionInfo": {
     "elapsed": 3643,
     "status": "ok",
     "timestamp": 1636348160548,
     "user": {
      "displayName": "성균관대학교이선홍",
      "photoUrl": "https://lh3.googleusercontent.com/a/default-user=s64",
      "userId": "13996425026101792854"
     },
     "user_tz": -540
    },
    "id": "NgLw-oeOEzC1"
   },
   "outputs": [],
   "source": [
    "glove_model = Glove.load(\"../../glove_w20_epoch50_beforecovid_model\")"
   ]
  },
  {
   "cell_type": "code",
   "execution_count": 16,
   "metadata": {
    "colab": {
     "base_uri": "https://localhost:8080/"
    },
    "executionInfo": {
     "elapsed": 11,
     "status": "ok",
     "timestamp": 1636348160550,
     "user": {
      "displayName": "성균관대학교이선홍",
      "photoUrl": "https://lh3.googleusercontent.com/a/default-user=s64",
      "userId": "13996425026101792854"
     },
     "user_tz": -540
    },
    "id": "aUX4coeJLI91",
    "outputId": "54469986-2c73-4327-bfd5-c3efcfcbd3ad"
   },
   "outputs": [
    {
     "data": {
      "text/plain": [
       "int"
      ]
     },
     "execution_count": 16,
     "metadata": {},
     "output_type": "execute_result"
    }
   ],
   "source": [
    "type(glove_model.dictionary[\"data\"])"
   ]
  },
  {
   "cell_type": "code",
   "execution_count": 17,
   "metadata": {
    "executionInfo": {
     "elapsed": 1853,
     "status": "ok",
     "timestamp": 1636348162397,
     "user": {
      "displayName": "성균관대학교이선홍",
      "photoUrl": "https://lh3.googleusercontent.com/a/default-user=s64",
      "userId": "13996425026101792854"
     },
     "user_tz": -540
    },
    "id": "wbJuGatpKU9-"
   },
   "outputs": [],
   "source": [
    "word_dict = {}\n",
    "for word in glove_model.dictionary.keys():\n",
    "    word_dict[word] = glove_model.word_vectors[glove_model.dictionary[word]]\n",
    "\n",
    "with open(\"../glove_word_dic_beforecovid.pkl\",\"wb\") as f:\n",
    "    pickle.dump(word_dict, f)"
   ]
  },
  {
   "cell_type": "code",
   "execution_count": 18,
   "metadata": {
    "colab": {
     "base_uri": "https://localhost:8080/"
    },
    "executionInfo": {
     "elapsed": 22,
     "status": "ok",
     "timestamp": 1636348162398,
     "user": {
      "displayName": "성균관대학교이선홍",
      "photoUrl": "https://lh3.googleusercontent.com/a/default-user=s64",
      "userId": "13996425026101792854"
     },
     "user_tz": -540
    },
    "id": "RGyUKo5CLX0H",
    "outputId": "177924aa-1ad5-4e74-905a-7720fc23a9d2"
   },
   "outputs": [
    {
     "data": {
      "text/plain": [
       "array([ 0.01435679,  0.01259607, -0.01151377, -0.0131511 ,  0.0108269 ,\n",
       "        0.00152043,  0.00983161,  0.01279175, -0.01150741, -0.01603906,\n",
       "       -0.01014677,  0.00494848,  0.01870506, -0.01189149, -0.00449187,\n",
       "        0.01579875, -0.01285768,  0.00892714, -0.01186818, -0.00651963,\n",
       "        0.00340269, -0.01276366,  0.01304649, -0.01108224,  0.00756265,\n",
       "       -0.00919712,  0.0102947 ,  0.00733243, -0.01411882,  0.01501751,\n",
       "        0.01237668, -0.00932865, -0.00448231, -0.00484224,  0.01487289,\n",
       "        0.01807652, -0.01154955,  0.00668873,  0.00659067,  0.00877854,\n",
       "       -0.00629583, -0.01180506,  0.00184818,  0.01183708, -0.01227313,\n",
       "       -0.00919623,  0.01106165,  0.00923073, -0.0104034 ,  0.01588238,\n",
       "        0.01744273, -0.01289231,  0.00404113,  0.01025682,  0.01522458,\n",
       "        0.01579261, -0.00718805, -0.01451678,  0.01005   ,  0.01057466,\n",
       "        0.01500026,  0.01103929, -0.01423668, -0.00858739,  0.01387821,\n",
       "       -0.01154479,  0.01342974, -0.00221878,  0.01529022,  0.01315708,\n",
       "       -0.01287576, -0.0118488 ,  0.00948585,  0.00888759, -0.01649411,\n",
       "       -0.00652693, -0.01356042,  0.01018445, -0.01396147,  0.01046699,\n",
       "       -0.0101049 ,  0.01309222, -0.01004277,  0.00538938, -0.01692339,\n",
       "        0.01180219,  0.00676856,  0.00693162,  0.0105665 ,  0.01546959,\n",
       "       -0.01786313, -0.01235035, -0.00997699,  0.01118121, -0.01113714,\n",
       "       -0.01076205, -0.00909032,  0.00327481, -0.01183079, -0.01413016,\n",
       "        0.01107963, -0.0066618 ,  0.01371331,  0.00493125,  0.00386323,\n",
       "       -0.00744635, -0.00907034,  0.01079727,  0.00727026,  0.01005748,\n",
       "        0.01298507,  0.00744483, -0.0086135 ,  0.01560819, -0.01189486,\n",
       "       -0.01085244,  0.00742603,  0.00263887, -0.0104332 ,  0.0038344 ,\n",
       "        0.00760614, -0.00825965,  0.00991977, -0.00973097,  0.00048759,\n",
       "        0.01253485, -0.01446947,  0.01058924])"
      ]
     },
     "execution_count": 18,
     "metadata": {},
     "output_type": "execute_result"
    }
   ],
   "source": [
    "word_dict[\"data\"]"
   ]
  },
  {
   "cell_type": "code",
   "execution_count": 19,
   "metadata": {
    "colab": {
     "base_uri": "https://localhost:8080/"
    },
    "executionInfo": {
     "elapsed": 13,
     "status": "ok",
     "timestamp": 1636348162399,
     "user": {
      "displayName": "성균관대학교이선홍",
      "photoUrl": "https://lh3.googleusercontent.com/a/default-user=s64",
      "userId": "13996425026101792854"
     },
     "user_tz": -540
    },
    "id": "aYwUOhGzLd92",
    "outputId": "edb2e455-6d45-4038-c309-8ebd082183ec"
   },
   "outputs": [
    {
     "name": "stdout",
     "output_type": "stream",
     "text": [
      "2039\n"
     ]
    }
   ],
   "source": [
    "total_word_dict = {} # 교집합\n",
    "count = 0\n",
    "\n",
    "for review_token in review_test_token_li: \n",
    "    for word in review_token:\n",
    "        if word in word_dict.keys():\n",
    "            total_word_dict[word] = word_dict[word]\n",
    "\n",
    "        else:\n",
    "            word_dict[word] = np.zeros((128))\n",
    "            count += 1\n",
    "\n",
    "print(count)"
   ]
  },
  {
   "cell_type": "code",
   "execution_count": 20,
   "metadata": {
    "executionInfo": {
     "elapsed": 264,
     "status": "ok",
     "timestamp": 1636348162656,
     "user": {
      "displayName": "성균관대학교이선홍",
      "photoUrl": "https://lh3.googleusercontent.com/a/default-user=s64",
      "userId": "13996425026101792854"
     },
     "user_tz": -540
    },
    "id": "u-a35DGoHAY0"
   },
   "outputs": [],
   "source": [
    "def glove_sentence_embedding(token_li, embedding_dim=128):\n",
    "    token_len = len(token_li)\n",
    "    sentence_matrix = np.zeros((token_len, embedding_dim))\n",
    "\n",
    "    for i, token in enumerate(token_li):\n",
    "        sentence_vector = np.array([word_dict[j] for j in token if j in word_dict])\n",
    "        sentence_vector = np.mean(sentence_vector, axis=0)\n",
    "        sentence_matrix[i] = sentence_vector\n",
    "\n",
    "    return sentence_matrix"
   ]
  },
  {
   "cell_type": "code",
   "execution_count": 21,
   "metadata": {
    "colab": {
     "base_uri": "https://localhost:8080/"
    },
    "executionInfo": {
     "elapsed": 6,
     "status": "ok",
     "timestamp": 1636348162657,
     "user": {
      "displayName": "성균관대학교이선홍",
      "photoUrl": "https://lh3.googleusercontent.com/a/default-user=s64",
      "userId": "13996425026101792854"
     },
     "user_tz": -540
    },
    "id": "vkgdE4ieQV-N",
    "outputId": "6bfbfb0b-2474-486f-cbef-7847040eee49"
   },
   "outputs": [
    {
     "name": "stdout",
     "output_type": "stream",
     "text": [
      "31312\n",
      "14208\n"
     ]
    }
   ],
   "source": [
    "print(len(review_train_token_li))\n",
    "print(len(review_test_token_li))"
   ]
  },
  {
   "cell_type": "code",
   "execution_count": 22,
   "metadata": {
    "colab": {
     "base_uri": "https://localhost:8080/"
    },
    "executionInfo": {
     "elapsed": 3551,
     "status": "ok",
     "timestamp": 1636348166204,
     "user": {
      "displayName": "성균관대학교이선홍",
      "photoUrl": "https://lh3.googleusercontent.com/a/default-user=s64",
      "userId": "13996425026101792854"
     },
     "user_tz": -540
    },
    "id": "ALh4PiydOMPd",
    "outputId": "d02df7d2-c312-44f4-b23a-2304d2398f50"
   },
   "outputs": [
    {
     "name": "stdout",
     "output_type": "stream",
     "text": [
      "31312\n",
      "14208\n"
     ]
    }
   ],
   "source": [
    "train_sentence_glove = glove_sentence_embedding(review_train_token_li)\n",
    "test_sentence_glove = glove_sentence_embedding(review_test_token_li)\n",
    "\n",
    "print(len(train_sentence_glove))\n",
    "print(len(test_sentence_glove))"
   ]
  },
  {
   "cell_type": "code",
   "execution_count": 23,
   "metadata": {
    "executionInfo": {
     "elapsed": 5,
     "status": "ok",
     "timestamp": 1636348166205,
     "user": {
      "displayName": "성균관대학교이선홍",
      "photoUrl": "https://lh3.googleusercontent.com/a/default-user=s64",
      "userId": "13996425026101792854"
     },
     "user_tz": -540
    },
    "id": "P0hr3lg1OMYS"
   },
   "outputs": [],
   "source": [
    "X_train = train_sentence_glove\n",
    "y_train = np.array(sentiments_train)\n",
    "\n",
    "X_test = test_sentence_glove\n",
    "y_test = np.array(sentiments_test)"
   ]
  },
  {
   "cell_type": "code",
   "execution_count": 24,
   "metadata": {
    "colab": {
     "base_uri": "https://localhost:8080/"
    },
    "executionInfo": {
     "elapsed": 2889,
     "status": "ok",
     "timestamp": 1636348169090,
     "user": {
      "displayName": "성균관대학교이선홍",
      "photoUrl": "https://lh3.googleusercontent.com/a/default-user=s64",
      "userId": "13996425026101792854"
     },
     "user_tz": -540
    },
    "id": "DCQHSEHPSzml",
    "outputId": "878413a4-b10a-469f-fc58-82cdeac72e15"
   },
   "outputs": [],
   "source": [
    "nb = BernoulliNB()\n",
    "nb.fit(X_train, y_train)\n",
    "\n",
    "nb_pred = nb.predict(X_test)"
   ]
  },
  {
   "cell_type": "code",
   "execution_count": 25,
   "metadata": {
    "colab": {
     "base_uri": "https://localhost:8080/"
    },
    "executionInfo": {
     "elapsed": 6,
     "status": "ok",
     "timestamp": 1636348169091,
     "user": {
      "displayName": "성균관대학교이선홍",
      "photoUrl": "https://lh3.googleusercontent.com/a/default-user=s64",
      "userId": "13996425026101792854"
     },
     "user_tz": -540
    },
    "id": "-fhu8MRUTRIf",
    "outputId": "22d4f478-1c62-422b-a87b-2eac221376ce"
   },
   "outputs": [
    {
     "name": "stdout",
     "output_type": "stream",
     "text": [
      "Accuracy: 0.803702\n"
     ]
    }
   ],
   "source": [
    "print(\"Accuracy: %f\" % accuracy_score(y_test, nb_pred))"
   ]
  },
  {
   "cell_type": "code",
   "execution_count": 26,
   "metadata": {
    "colab": {
     "base_uri": "https://localhost:8080/",
     "height": 343
    },
    "executionInfo": {
     "elapsed": 734,
     "status": "ok",
     "timestamp": 1636348169822,
     "user": {
      "displayName": "성균관대학교이선홍",
      "photoUrl": "https://lh3.googleusercontent.com/a/default-user=s64",
      "userId": "13996425026101792854"
     },
     "user_tz": -540
    },
    "id": "lioT5SvJTcwI",
    "outputId": "1ae425df-cc1f-4136-c419-7434a705652a"
   },
   "outputs": [
    {
     "data": {
      "text/plain": [
       "Text(0.5, 257.44, 'Predicted label')"
      ]
     },
     "execution_count": 26,
     "metadata": {},
     "output_type": "execute_result"
    },
    {
     "data": {
      "image/png": "[encoded data removed]",
      "text/plain": [
       "<Figure size 432x288 with 2 Axes>"
      ]
     },
     "metadata": {
      "needs_background": "light"
     },
     "output_type": "display_data"
    }
   ],
   "source": [
    "cnf_matrix = metrics.confusion_matrix(y_test, nb_pred)\n",
    "\n",
    "class_names=[0,1] # name  of classes\n",
    "fig, ax = plt.subplots()\n",
    "tick_marks = np.arange(len(class_names))\n",
    "plt.xticks(tick_marks, class_names)\n",
    "plt.yticks(tick_marks, class_names)\n",
    "# create heatmap\n",
    "sns.heatmap(pd.DataFrame(cnf_matrix), annot=True, cmap=\"YlGnBu\" ,fmt='g')\n",
    "ax.xaxis.set_label_position(\"top\")\n",
    "plt.tight_layout()\n",
    "plt.title('Confusion matrix', y=1.1)\n",
    "plt.ylabel('Actual label')\n",
    "plt.xlabel('Predicted label')"
   ]
  },
  {
   "cell_type": "code",
   "execution_count": 27,
   "metadata": {
    "colab": {
     "base_uri": "https://localhost:8080/"
    },
    "executionInfo": {
     "elapsed": 11,
     "status": "ok",
     "timestamp": 1636348169823,
     "user": {
      "displayName": "성균관대학교이선홍",
      "photoUrl": "https://lh3.googleusercontent.com/a/default-user=s64",
      "userId": "13996425026101792854"
     },
     "user_tz": -540
    },
    "id": "YPia38Ne2sCA",
    "outputId": "e1f697e6-3a6e-44c1-9258-a234bdc55841"
   },
   "outputs": [
    {
     "name": "stdout",
     "output_type": "stream",
     "text": [
      "Accuracy: 0.8037021396396397\n",
      "Precision: 0.8065937189143101\n",
      "Recall: 0.7989864864864865\n",
      "F1-score: 0.8027720811823775\n"
     ]
    }
   ],
   "source": [
    "print(\"Accuracy:\",metrics.accuracy_score(y_test, nb_pred))\n",
    "print(\"Precision:\",metrics.precision_score(y_test, nb_pred))\n",
    "print(\"Recall:\",metrics.recall_score(y_test, nb_pred))\n",
    "print(\"F1-score:\",metrics.f1_score(y_test, nb_pred))"
   ]
  },
  {
   "cell_type": "code",
   "execution_count": 28,
   "metadata": {
    "colab": {
     "base_uri": "https://localhost:8080/"
    },
    "executionInfo": {
     "elapsed": 8,
     "status": "ok",
     "timestamp": 1636348169823,
     "user": {
      "displayName": "성균관대학교이선홍",
      "photoUrl": "https://lh3.googleusercontent.com/a/default-user=s64",
      "userId": "13996425026101792854"
     },
     "user_tz": -540
    },
    "id": "E8sQs80c2xeH",
    "outputId": "8c3388a3-1511-40d7-8bfc-e78648c6bacf"
   },
   "outputs": [
    {
     "name": "stdout",
     "output_type": "stream",
     "text": [
      "              precision    recall  f1-score   support\n",
      "\n",
      "   class low       0.80      0.81      0.80      7104\n",
      "  class high       0.81      0.80      0.80      7104\n",
      "\n",
      "    accuracy                           0.80     14208\n",
      "   macro avg       0.80      0.80      0.80     14208\n",
      "weighted avg       0.80      0.80      0.80     14208\n",
      "\n"
     ]
    }
   ],
   "source": [
    "from sklearn.metrics import classification_report\n",
    "\n",
    "print(classification_report(y_test, nb_pred, target_names=['class low', 'class high']))"
   ]
  },
  {
   "cell_type": "code",
   "execution_count": 29,
   "metadata": {
    "colab": {
     "base_uri": "https://localhost:8080/",
     "height": 204
    },
    "executionInfo": {
     "elapsed": 7,
     "status": "ok",
     "timestamp": 1636348169824,
     "user": {
      "displayName": "성균관대학교이선홍",
      "photoUrl": "https://lh3.googleusercontent.com/a/default-user=s64",
      "userId": "13996425026101792854"
     },
     "user_tz": -540
    },
    "id": "RSTmTsLLZy5g",
    "outputId": "afa4c4d4-8b8d-47f7-8f2e-7a7f89d42263"
   },
   "outputs": [
    {
     "data": {
      "text/html": [
       "<div>\n",
       "<style scoped>\n",
       "    .dataframe tbody tr th:only-of-type {\n",
       "        vertical-align: middle;\n",
       "    }\n",
       "\n",
       "    .dataframe tbody tr th {\n",
       "        vertical-align: top;\n",
       "    }\n",
       "\n",
       "    .dataframe thead th {\n",
       "        text-align: right;\n",
       "    }\n",
       "</style>\n",
       "<table border=\"1\" class=\"dataframe\">\n",
       "  <thead>\n",
       "    <tr style=\"text-align: right;\">\n",
       "      <th></th>\n",
       "      <th>precision</th>\n",
       "      <th>recall</th>\n",
       "      <th>f1-score</th>\n",
       "      <th>support</th>\n",
       "    </tr>\n",
       "  </thead>\n",
       "  <tbody>\n",
       "    <tr>\n",
       "      <th>class low</th>\n",
       "      <td>0.800865</td>\n",
       "      <td>0.808418</td>\n",
       "      <td>0.804623</td>\n",
       "      <td>7104.000000</td>\n",
       "    </tr>\n",
       "    <tr>\n",
       "      <th>class high</th>\n",
       "      <td>0.806594</td>\n",
       "      <td>0.798986</td>\n",
       "      <td>0.802772</td>\n",
       "      <td>7104.000000</td>\n",
       "    </tr>\n",
       "    <tr>\n",
       "      <th>accuracy</th>\n",
       "      <td>0.803702</td>\n",
       "      <td>0.803702</td>\n",
       "      <td>0.803702</td>\n",
       "      <td>0.803702</td>\n",
       "    </tr>\n",
       "    <tr>\n",
       "      <th>macro avg</th>\n",
       "      <td>0.803729</td>\n",
       "      <td>0.803702</td>\n",
       "      <td>0.803698</td>\n",
       "      <td>14208.000000</td>\n",
       "    </tr>\n",
       "    <tr>\n",
       "      <th>weighted avg</th>\n",
       "      <td>0.803729</td>\n",
       "      <td>0.803702</td>\n",
       "      <td>0.803698</td>\n",
       "      <td>14208.000000</td>\n",
       "    </tr>\n",
       "  </tbody>\n",
       "</table>\n",
       "</div>"
      ],
      "text/plain": [
       "              precision    recall  f1-score       support\n",
       "class low      0.800865  0.808418  0.804623   7104.000000\n",
       "class high     0.806594  0.798986  0.802772   7104.000000\n",
       "accuracy       0.803702  0.803702  0.803702      0.803702\n",
       "macro avg      0.803729  0.803702  0.803698  14208.000000\n",
       "weighted avg   0.803729  0.803702  0.803698  14208.000000"
      ]
     },
     "execution_count": 29,
     "metadata": {},
     "output_type": "execute_result"
    }
   ],
   "source": [
    "report = classification_report(y_test, nb_pred, target_names=['class low', 'class high'], output_dict=True)\n",
    "df = pd.DataFrame(report).transpose()\n",
    "\n",
    "df"
   ]
  },
  {
   "cell_type": "code",
   "execution_count": 30,
   "metadata": {
    "id": "EbRQU_4c84QN"
   },
   "outputs": [
    {
     "data": {
      "text/plain": [
       "['nb_GloVe_beforeCoivd_0.803702']"
      ]
     },
     "execution_count": 30,
     "metadata": {},
     "output_type": "execute_result"
    }
   ],
   "source": [
    "joblib.dump(nb,'nb_GloVe_beforeCoivd_0.803702')"
   ]
  },
  {
   "cell_type": "code",
   "execution_count": null,
   "metadata": {},
   "outputs": [],
   "source": []
  }
 ],
 "metadata": {
  "colab": {
   "authorship_tag": "ABX9TyPOmOl6VCw6poRMAoxhUayE",
   "collapsed_sections": [],
   "mount_file_id": "1_6LAZbBLx67kXGsDkMW-JU2-z-reCvcU",
   "name": "logistic-Glove.ipynb",
   "provenance": []
  },
  "kernelspec": {
   "display_name": "Python 3",
   "language": "python",
   "name": "python3"
  },
  "language_info": {
   "codemirror_mode": {
    "name": "ipython",
    "version": 3
   },
   "file_extension": ".py",
   "mimetype": "text/x-python",
   "name": "python",
   "nbconvert_exporter": "python",
   "pygments_lexer": "ipython3",
   "version": "3.7.6"
  }
 },
 "nbformat": 4,
 "nbformat_minor": 1
}
