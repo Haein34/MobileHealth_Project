{
 "cells": [
  {
   "cell_type": "code",
   "execution_count": 1,
   "metadata": {
    "executionInfo": {
     "elapsed": 1698,
     "status": "ok",
     "timestamp": 1636347797769,
     "user": {
      "displayName": "성균관대학교이선홍",
      "photoUrl": "https://lh3.googleusercontent.com/a/default-user=s64",
      "userId": "13996425026101792854"
     },
     "user_tz": -540
    },
    "id": "_NWKWH2EkLQ8"
   },
   "outputs": [],
   "source": [
    "from sklearn.feature_extraction.text import TfidfVectorizer\n",
    "from sklearn.model_selection import train_test_split\n",
    "from sklearn.naive_bayes import BernoulliNB\n",
    "from sklearn.metrics import accuracy_score\n",
    "from sklearn import metrics\n",
    "\n",
    "import joblib\n",
    "import pandas as pd\n",
    "import numpy as np\n",
    "import re\n",
    "import os\n",
    "import pickle\n",
    "import json\n",
    "import seaborn as sns\n",
    "import matplotlib.pyplot as plt\n",
    "%matplotlib inline"
   ]
  },
  {
   "cell_type": "code",
   "execution_count": 2,
   "metadata": {
    "executionInfo": {
     "elapsed": 2030,
     "status": "ok",
     "timestamp": 1636347799789,
     "user": {
      "displayName": "성균관대학교이선홍",
      "photoUrl": "https://lh3.googleusercontent.com/a/default-user=s64",
      "userId": "13996425026101792854"
     },
     "user_tz": -540
    },
    "id": "meli-XQ4k_x4"
   },
   "outputs": [],
   "source": [
    "df_train = pd.read_csv(\"../../traindata_2020_afterCovid.csv\")\n",
    "df_test = pd.read_csv(\"../../testdata_2021_afterCovid.csv\")"
   ]
  },
  {
   "cell_type": "code",
   "execution_count": 3,
   "metadata": {
    "executionInfo": {
     "elapsed": 11,
     "status": "ok",
     "timestamp": 1636347799790,
     "user": {
      "displayName": "성균관대학교이선홍",
      "photoUrl": "https://lh3.googleusercontent.com/a/default-user=s64",
      "userId": "13996425026101792854"
     },
     "user_tz": -540
    },
    "id": "y8Lo0W90k4We"
   },
   "outputs": [],
   "source": [
    "# train set\n",
    "reviews_train = list(df_train[\"clean_review\"])\n",
    "sentiments_train = list(df_train[\"sentiment\"])\n",
    "# test set\n",
    "reviews_test = list(df_test[\"clean_review\"])\n",
    "sentiments_test = list(df_test[\"sentiment\"])"
   ]
  },
  {
   "cell_type": "code",
   "execution_count": 4,
   "metadata": {
    "executionInfo": {
     "elapsed": 18728,
     "status": "ok",
     "timestamp": 1636347818509,
     "user": {
      "displayName": "성균관대학교이선홍",
      "photoUrl": "https://lh3.googleusercontent.com/a/default-user=s64",
      "userId": "13996425026101792854"
     },
     "user_tz": -540
    },
    "id": "MVV4_nxTlOSG"
   },
   "outputs": [],
   "source": [
    "# tfidf embedding\n",
    "vectorizer = TfidfVectorizer(min_df = 0.0, analyzer='char', sublinear_tf=True, ngram_range=(1,3), max_features=5000)\n",
    "\n",
    "X_train = vectorizer.fit_transform(reviews_train)\n",
    "y_train = np.array(sentiments_train)\n",
    "\n",
    "X_test = vectorizer.transform(reviews_test)\n",
    "y_test = np.array(sentiments_test)"
   ]
  },
  {
   "cell_type": "code",
   "execution_count": 5,
   "metadata": {
    "colab": {
     "base_uri": "https://localhost:8080/"
    },
    "executionInfo": {
     "elapsed": 5562,
     "status": "ok",
     "timestamp": 1636347824053,
     "user": {
      "displayName": "성균관대학교이선홍",
      "photoUrl": "https://lh3.googleusercontent.com/a/default-user=s64",
      "userId": "13996425026101792854"
     },
     "user_tz": -540
    },
    "id": "ZeEfIfgPlSsX",
    "outputId": "f1d25ad5-f49b-4177-a333-32e8059136bf"
   },
   "outputs": [],
   "source": [
    "nb = BernoulliNB()\n",
    "nb.fit(X_train, y_train)\n",
    "\n",
    "nb_pred = nb.predict(X_test)"
   ]
  },
  {
   "cell_type": "code",
   "execution_count": 6,
   "metadata": {
    "colab": {
     "base_uri": "https://localhost:8080/"
    },
    "executionInfo": {
     "elapsed": 32,
     "status": "ok",
     "timestamp": 1636347824055,
     "user": {
      "displayName": "성균관대학교이선홍",
      "photoUrl": "https://lh3.googleusercontent.com/a/default-user=s64",
      "userId": "13996425026101792854"
     },
     "user_tz": -540
    },
    "id": "iN1o7lUPlTM4",
    "outputId": "9601b1c0-129c-4f60-fca2-0cc98fdea73a"
   },
   "outputs": [
    {
     "name": "stdout",
     "output_type": "stream",
     "text": [
      "Accuracy: 0.773466\n"
     ]
    }
   ],
   "source": [
    "print(\"Accuracy: %f\" % accuracy_score(y_test, nb_pred))"
   ]
  },
  {
   "cell_type": "code",
   "execution_count": 7,
   "metadata": {
    "colab": {
     "base_uri": "https://localhost:8080/",
     "height": 344
    },
    "executionInfo": {
     "elapsed": 521,
     "status": "ok",
     "timestamp": 1636347824554,
     "user": {
      "displayName": "성균관대학교이선홍",
      "photoUrl": "https://lh3.googleusercontent.com/a/default-user=s64",
      "userId": "13996425026101792854"
     },
     "user_tz": -540
    },
    "id": "SjCCbcKuRj3V",
    "outputId": "5fd40f49-88e8-4ea1-b40a-da6f04e975b8"
   },
   "outputs": [
    {
     "data": {
      "text/plain": [
       "Text(0.5, 257.44, 'Predicted label')"
      ]
     },
     "execution_count": 7,
     "metadata": {},
     "output_type": "execute_result"
    },
    {
     "data": {
      "image/png": "[encoded data removed]",
      "text/plain": [
       "<Figure size 432x288 with 2 Axes>"
      ]
     },
     "metadata": {
      "needs_background": "light"
     },
     "output_type": "display_data"
    }
   ],
   "source": [
    "cnf_matrix = metrics.confusion_matrix(y_test, nb_pred)\n",
    "\n",
    "class_names=[0,1] # name  of classes\n",
    "fig, ax = plt.subplots()\n",
    "tick_marks = np.arange(len(class_names))\n",
    "plt.xticks(tick_marks, class_names)\n",
    "plt.yticks(tick_marks, class_names)\n",
    "# create heatmap\n",
    "sns.heatmap(pd.DataFrame(cnf_matrix), annot=True, cmap=\"YlGnBu\" ,fmt='g')\n",
    "ax.xaxis.set_label_position(\"top\")\n",
    "plt.tight_layout()\n",
    "plt.title('Confusion matrix', y=1.1)\n",
    "plt.ylabel('Actual label')\n",
    "plt.xlabel('Predicted label')"
   ]
  },
  {
   "cell_type": "code",
   "execution_count": 8,
   "metadata": {
    "colab": {
     "base_uri": "https://localhost:8080/"
    },
    "executionInfo": {
     "elapsed": 63,
     "status": "ok",
     "timestamp": 1636347824558,
     "user": {
      "displayName": "성균관대학교이선홍",
      "photoUrl": "https://lh3.googleusercontent.com/a/default-user=s64",
      "userId": "13996425026101792854"
     },
     "user_tz": -540
    },
    "id": "mZ9SeCq20pIb",
    "outputId": "e8defc8b-d25d-4d55-e287-e5517f71acbc"
   },
   "outputs": [
    {
     "name": "stdout",
     "output_type": "stream",
     "text": [
      "Accuracy: 0.7734659228716954\n",
      "Precision: 0.7663595558705409\n",
      "Recall: 0.7868057239873878\n",
      "F1-score: 0.7764480612733364\n"
     ]
    }
   ],
   "source": [
    "print(\"Accuracy:\",metrics.accuracy_score(y_test, nb_pred))\n",
    "print(\"Precision:\",metrics.precision_score(y_test, nb_pred))\n",
    "print(\"Recall:\",metrics.recall_score(y_test, nb_pred))\n",
    "print(\"F1-score:\",metrics.f1_score(y_test, nb_pred))"
   ]
  },
  {
   "cell_type": "code",
   "execution_count": 9,
   "metadata": {
    "colab": {
     "base_uri": "https://localhost:8080/"
    },
    "executionInfo": {
     "elapsed": 59,
     "status": "ok",
     "timestamp": 1636347824561,
     "user": {
      "displayName": "성균관대학교이선홍",
      "photoUrl": "https://lh3.googleusercontent.com/a/default-user=s64",
      "userId": "13996425026101792854"
     },
     "user_tz": -540
    },
    "id": "vwij6tvPaDby",
    "outputId": "cfee1a1b-6114-4eca-e5cc-5dd2d4a074f6"
   },
   "outputs": [
    {
     "name": "stdout",
     "output_type": "stream",
     "text": [
      "              precision    recall  f1-score   support\n",
      "\n",
      "   class low       0.78      0.76      0.77      8246\n",
      "  class high       0.77      0.79      0.78      8246\n",
      "\n",
      "    accuracy                           0.77     16492\n",
      "   macro avg       0.77      0.77      0.77     16492\n",
      "weighted avg       0.77      0.77      0.77     16492\n",
      "\n"
     ]
    }
   ],
   "source": [
    "from sklearn.metrics import classification_report\n",
    "\n",
    "print(classification_report(y_test, nb_pred, target_names=['class low', 'class high']))"
   ]
  },
  {
   "cell_type": "code",
   "execution_count": 10,
   "metadata": {
    "colab": {
     "base_uri": "https://localhost:8080/",
     "height": 206
    },
    "executionInfo": {
     "elapsed": 48,
     "status": "ok",
     "timestamp": 1636347824565,
     "user": {
      "displayName": "성균관대학교이선홍",
      "photoUrl": "https://lh3.googleusercontent.com/a/default-user=s64",
      "userId": "13996425026101792854"
     },
     "user_tz": -540
    },
    "id": "GJkPIggQ7fnx",
    "outputId": "b8bb2916-8c6f-49b0-dab8-813b8ece0f8e"
   },
   "outputs": [
    {
     "data": {
      "text/html": [
       "<div>\n",
       "<style scoped>\n",
       "    .dataframe tbody tr th:only-of-type {\n",
       "        vertical-align: middle;\n",
       "    }\n",
       "\n",
       "    .dataframe tbody tr th {\n",
       "        vertical-align: top;\n",
       "    }\n",
       "\n",
       "    .dataframe thead th {\n",
       "        text-align: right;\n",
       "    }\n",
       "</style>\n",
       "<table border=\"1\" class=\"dataframe\">\n",
       "  <thead>\n",
       "    <tr style=\"text-align: right;\">\n",
       "      <th></th>\n",
       "      <th>precision</th>\n",
       "      <th>recall</th>\n",
       "      <th>f1-score</th>\n",
       "      <th>support</th>\n",
       "    </tr>\n",
       "  </thead>\n",
       "  <tbody>\n",
       "    <tr>\n",
       "      <th>class low</th>\n",
       "      <td>0.780962</td>\n",
       "      <td>0.760126</td>\n",
       "      <td>0.770403</td>\n",
       "      <td>8246.000000</td>\n",
       "    </tr>\n",
       "    <tr>\n",
       "      <th>class high</th>\n",
       "      <td>0.766360</td>\n",
       "      <td>0.786806</td>\n",
       "      <td>0.776448</td>\n",
       "      <td>8246.000000</td>\n",
       "    </tr>\n",
       "    <tr>\n",
       "      <th>accuracy</th>\n",
       "      <td>0.773466</td>\n",
       "      <td>0.773466</td>\n",
       "      <td>0.773466</td>\n",
       "      <td>0.773466</td>\n",
       "    </tr>\n",
       "    <tr>\n",
       "      <th>macro avg</th>\n",
       "      <td>0.773661</td>\n",
       "      <td>0.773466</td>\n",
       "      <td>0.773426</td>\n",
       "      <td>16492.000000</td>\n",
       "    </tr>\n",
       "    <tr>\n",
       "      <th>weighted avg</th>\n",
       "      <td>0.773661</td>\n",
       "      <td>0.773466</td>\n",
       "      <td>0.773426</td>\n",
       "      <td>16492.000000</td>\n",
       "    </tr>\n",
       "  </tbody>\n",
       "</table>\n",
       "</div>"
      ],
      "text/plain": [
       "              precision    recall  f1-score       support\n",
       "class low      0.780962  0.760126  0.770403   8246.000000\n",
       "class high     0.766360  0.786806  0.776448   8246.000000\n",
       "accuracy       0.773466  0.773466  0.773466      0.773466\n",
       "macro avg      0.773661  0.773466  0.773426  16492.000000\n",
       "weighted avg   0.773661  0.773466  0.773426  16492.000000"
      ]
     },
     "execution_count": 10,
     "metadata": {},
     "output_type": "execute_result"
    }
   ],
   "source": [
    "report = classification_report(y_test, nb_pred, target_names=['class low', 'class high'], output_dict=True)\n",
    "df = pd.DataFrame(report).transpose()\n",
    "\n",
    "df"
   ]
  },
  {
   "cell_type": "code",
   "execution_count": 11,
   "metadata": {
    "id": "I9OV9DRw7gt3"
   },
   "outputs": [
    {
     "data": {
      "text/plain": [
       "['nb_TFIDF_afterCovid_0.773466']"
      ]
     },
     "execution_count": 11,
     "metadata": {},
     "output_type": "execute_result"
    }
   ],
   "source": [
    "joblib.dump(nb, 'nb_TFIDF_afterCovid_0.773466')"
   ]
  },
  {
   "cell_type": "code",
   "execution_count": null,
   "metadata": {},
   "outputs": [],
   "source": []
  },
  {
   "cell_type": "code",
   "execution_count": null,
   "metadata": {},
   "outputs": [],
   "source": []
  }
 ],
 "metadata": {
  "colab": {
   "authorship_tag": "ABX9TyPFygT/LlD0Y5nGcIyFJyts",
   "collapsed_sections": [],
   "mount_file_id": "1cDVGaf3igC2pApBXnz1mznHN2nV-9nkb",
   "name": "logistic-tfidf.ipynb",
   "provenance": []
  },
  "kernelspec": {
   "display_name": "Python 3",
   "language": "python",
   "name": "python3"
  },
  "language_info": {
   "codemirror_mode": {
    "name": "ipython",
    "version": 3
   },
   "file_extension": ".py",
   "mimetype": "text/x-python",
   "name": "python",
   "nbconvert_exporter": "python",
   "pygments_lexer": "ipython3",
   "version": "3.7.6"
  }
 },
 "nbformat": 4,
 "nbformat_minor": 1
}
