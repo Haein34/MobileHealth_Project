{
 "cells": [
  {
   "cell_type": "code",
   "execution_count": 1,
   "metadata": {
    "executionInfo": {
     "elapsed": 926,
     "status": "ok",
     "timestamp": 1641357608214,
     "user": {
      "displayName": "성균관대학교이해인",
      "photoUrl": "https://lh3.googleusercontent.com/a/default-user=s64",
      "userId": "18353716469576030948"
     },
     "user_tz": -540
    },
    "id": "Si36AfexOoKl"
   },
   "outputs": [],
   "source": [
    "import os\n",
    "\n",
    "import pandas as pd\n",
    "import numpy as np\n",
    "\n",
    "from sklearn.feature_extraction.text import CountVectorizer\n",
    "from sklearn.model_selection import train_test_split\n",
    "\n",
    "from sklearn.metrics import accuracy_score\n",
    "from sklearn import metrics\n",
    "import seaborn as sns\n",
    "import matplotlib.pyplot as plt\n",
    "%matplotlib inline"
   ]
  },
  {
   "cell_type": "code",
   "execution_count": 2,
   "metadata": {
    "executionInfo": {
     "elapsed": 1454,
     "status": "ok",
     "timestamp": 1641357610531,
     "user": {
      "displayName": "성균관대학교이해인",
      "photoUrl": "https://lh3.googleusercontent.com/a/default-user=s64",
      "userId": "18353716469576030948"
     },
     "user_tz": -540
    },
    "id": "fyKKGgmSOoKs"
   },
   "outputs": [],
   "source": [
    "train_data = pd.read_csv('C:/Users/DSSAL/Downloads/RF_mobilehealth/revision_data/traindata_2015_2018_beforeCovid.csv')"
   ]
  },
  {
   "cell_type": "code",
   "execution_count": 3,
   "metadata": {
    "executionInfo": {
     "elapsed": 9,
     "status": "ok",
     "timestamp": 1641357610532,
     "user": {
      "displayName": "성균관대학교이해인",
      "photoUrl": "https://lh3.googleusercontent.com/a/default-user=s64",
      "userId": "18353716469576030948"
     },
     "user_tz": -540
    },
    "id": "nRicqqjzOoKt"
   },
   "outputs": [],
   "source": [
    "train_data = train_data.dropna()"
   ]
  },
  {
   "cell_type": "code",
   "execution_count": 4,
   "metadata": {
    "colab": {
     "base_uri": "https://localhost:8080/",
     "height": 424
    },
    "executionInfo": {
     "elapsed": 7,
     "status": "ok",
     "timestamp": 1641357610532,
     "user": {
      "displayName": "성균관대학교이해인",
      "photoUrl": "https://lh3.googleusercontent.com/a/default-user=s64",
      "userId": "18353716469576030948"
     },
     "user_tz": -540
    },
    "id": "js55DUueONP7",
    "outputId": "3db068d0-7332-4f70-82fb-b02a07dcfcd5"
   },
   "outputs": [
    {
     "data": {
      "text/html": [
       "<div>\n",
       "<style scoped>\n",
       "    .dataframe tbody tr th:only-of-type {\n",
       "        vertical-align: middle;\n",
       "    }\n",
       "\n",
       "    .dataframe tbody tr th {\n",
       "        vertical-align: top;\n",
       "    }\n",
       "\n",
       "    .dataframe thead th {\n",
       "        text-align: right;\n",
       "    }\n",
       "</style>\n",
       "<table border=\"1\" class=\"dataframe\">\n",
       "  <thead>\n",
       "    <tr style=\"text-align: right;\">\n",
       "      <th></th>\n",
       "      <th>contents</th>\n",
       "      <th>star</th>\n",
       "      <th>agree</th>\n",
       "      <th>date</th>\n",
       "      <th>sentiment</th>\n",
       "      <th>year</th>\n",
       "      <th>clean_review</th>\n",
       "    </tr>\n",
       "  </thead>\n",
       "  <tbody>\n",
       "    <tr>\n",
       "      <th>0</th>\n",
       "      <td>Just started using this app so I'm still figur...</td>\n",
       "      <td>5</td>\n",
       "      <td>0</td>\n",
       "      <td>2017-06-22 05:29:21</td>\n",
       "      <td>1</td>\n",
       "      <td>2017</td>\n",
       "      <td>start us thi ap i'm stil fig lov far</td>\n",
       "    </tr>\n",
       "    <tr>\n",
       "      <th>1</th>\n",
       "      <td>I switched to new phone after upgrade and now ...</td>\n",
       "      <td>1</td>\n",
       "      <td>0</td>\n",
       "      <td>2016-07-20 03:18:54</td>\n",
       "      <td>0</td>\n",
       "      <td>2016</td>\n",
       "      <td>switch new phon aft upgrad stepcount long work</td>\n",
       "    </tr>\n",
       "    <tr>\n",
       "      <th>2</th>\n",
       "      <td>It tracks the steps and the heart beat in an e...</td>\n",
       "      <td>4</td>\n",
       "      <td>0</td>\n",
       "      <td>2015-04-25 05:42:00</td>\n",
       "      <td>1</td>\n",
       "      <td>2015</td>\n",
       "      <td>track step heart beat excel way stil nee som i...</td>\n",
       "    </tr>\n",
       "    <tr>\n",
       "      <th>3</th>\n",
       "      <td>It keeps record of everything nice app must tr...</td>\n",
       "      <td>5</td>\n",
       "      <td>0</td>\n",
       "      <td>2018-11-17 13:35:45</td>\n",
       "      <td>1</td>\n",
       "      <td>2018</td>\n",
       "      <td>keep record everyth nic ap must try ont</td>\n",
       "    </tr>\n",
       "    <tr>\n",
       "      <th>4</th>\n",
       "      <td>i have a gear and want use .. after install i ...</td>\n",
       "      <td>1</td>\n",
       "      <td>1</td>\n",
       "      <td>2016-03-08 18:11:42</td>\n",
       "      <td>0</td>\n",
       "      <td>2016</td>\n",
       "      <td>hav gear want us aft instal op popup com show ...</td>\n",
       "    </tr>\n",
       "    <tr>\n",
       "      <th>...</th>\n",
       "      <td>...</td>\n",
       "      <td>...</td>\n",
       "      <td>...</td>\n",
       "      <td>...</td>\n",
       "      <td>...</td>\n",
       "      <td>...</td>\n",
       "      <td>...</td>\n",
       "    </tr>\n",
       "    <tr>\n",
       "      <th>31307</th>\n",
       "      <td>I used to be able to manually add exercise tha...</td>\n",
       "      <td>2</td>\n",
       "      <td>0</td>\n",
       "      <td>2016-08-02 10:19:33</td>\n",
       "      <td>0</td>\n",
       "      <td>2016</td>\n",
       "      <td>us abl man ad exerc record phon swim zumb feat...</td>\n",
       "    </tr>\n",
       "    <tr>\n",
       "      <th>31308</th>\n",
       "      <td>Too invasive</td>\n",
       "      <td>1</td>\n",
       "      <td>0</td>\n",
       "      <td>2016-07-20 06:51:36</td>\n",
       "      <td>0</td>\n",
       "      <td>2016</td>\n",
       "      <td>invas</td>\n",
       "    </tr>\n",
       "    <tr>\n",
       "      <th>31309</th>\n",
       "      <td>Like it</td>\n",
       "      <td>5</td>\n",
       "      <td>0</td>\n",
       "      <td>2016-11-29 08:13:47</td>\n",
       "      <td>1</td>\n",
       "      <td>2016</td>\n",
       "      <td>lik</td>\n",
       "    </tr>\n",
       "    <tr>\n",
       "      <th>31310</th>\n",
       "      <td>It's  oky</td>\n",
       "      <td>4</td>\n",
       "      <td>0</td>\n",
       "      <td>2017-03-24 14:47:16</td>\n",
       "      <td>1</td>\n",
       "      <td>2017</td>\n",
       "      <td>oky</td>\n",
       "    </tr>\n",
       "    <tr>\n",
       "      <th>31311</th>\n",
       "      <td>Global challenge is the best motivator as well...</td>\n",
       "      <td>5</td>\n",
       "      <td>0</td>\n",
       "      <td>2018-08-21 09:38:32</td>\n",
       "      <td>1</td>\n",
       "      <td>2018</td>\n",
       "      <td>glob challeng best mot wel k plan</td>\n",
       "    </tr>\n",
       "  </tbody>\n",
       "</table>\n",
       "<p>31312 rows × 7 columns</p>\n",
       "</div>"
      ],
      "text/plain": [
       "                                                contents  star  agree  \\\n",
       "0      Just started using this app so I'm still figur...     5      0   \n",
       "1      I switched to new phone after upgrade and now ...     1      0   \n",
       "2      It tracks the steps and the heart beat in an e...     4      0   \n",
       "3      It keeps record of everything nice app must tr...     5      0   \n",
       "4      i have a gear and want use .. after install i ...     1      1   \n",
       "...                                                  ...   ...    ...   \n",
       "31307  I used to be able to manually add exercise tha...     2      0   \n",
       "31308                                       Too invasive     1      0   \n",
       "31309                                            Like it     5      0   \n",
       "31310                                          It's  oky     4      0   \n",
       "31311  Global challenge is the best motivator as well...     5      0   \n",
       "\n",
       "                      date  sentiment  year  \\\n",
       "0      2017-06-22 05:29:21          1  2017   \n",
       "1      2016-07-20 03:18:54          0  2016   \n",
       "2      2015-04-25 05:42:00          1  2015   \n",
       "3      2018-11-17 13:35:45          1  2018   \n",
       "4      2016-03-08 18:11:42          0  2016   \n",
       "...                    ...        ...   ...   \n",
       "31307  2016-08-02 10:19:33          0  2016   \n",
       "31308  2016-07-20 06:51:36          0  2016   \n",
       "31309  2016-11-29 08:13:47          1  2016   \n",
       "31310  2017-03-24 14:47:16          1  2017   \n",
       "31311  2018-08-21 09:38:32          1  2018   \n",
       "\n",
       "                                            clean_review  \n",
       "0                   start us thi ap i'm stil fig lov far  \n",
       "1         switch new phon aft upgrad stepcount long work  \n",
       "2      track step heart beat excel way stil nee som i...  \n",
       "3                keep record everyth nic ap must try ont  \n",
       "4      hav gear want us aft instal op popup com show ...  \n",
       "...                                                  ...  \n",
       "31307  us abl man ad exerc record phon swim zumb feat...  \n",
       "31308                                              invas  \n",
       "31309                                                lik  \n",
       "31310                                                oky  \n",
       "31311                  glob challeng best mot wel k plan  \n",
       "\n",
       "[31312 rows x 7 columns]"
      ]
     },
     "execution_count": 4,
     "metadata": {},
     "output_type": "execute_result"
    }
   ],
   "source": [
    "train_data"
   ]
  },
  {
   "cell_type": "code",
   "execution_count": 5,
   "metadata": {
    "executionInfo": {
     "elapsed": 230,
     "status": "ok",
     "timestamp": 1641357615621,
     "user": {
      "displayName": "성균관대학교이해인",
      "photoUrl": "https://lh3.googleusercontent.com/a/default-user=s64",
      "userId": "18353716469576030948"
     },
     "user_tz": -540
    },
    "id": "u9SWGgtsOoKu"
   },
   "outputs": [],
   "source": [
    "reviews = list(train_data['clean_review'])\n",
    "sentiments = list(train_data['sentiment'])"
   ]
  },
  {
   "cell_type": "code",
   "execution_count": 6,
   "metadata": {
    "executionInfo": {
     "elapsed": 353,
     "status": "ok",
     "timestamp": 1641357616805,
     "user": {
      "displayName": "성균관대학교이해인",
      "photoUrl": "https://lh3.googleusercontent.com/a/default-user=s64",
      "userId": "18353716469576030948"
     },
     "user_tz": -540
    },
    "id": "0mtmQ9mUOoKu"
   },
   "outputs": [],
   "source": [
    "vectorizer = CountVectorizer(analyzer = \"word\", max_features = 5000) \n",
    "\n",
    "x_train = vectorizer.fit_transform(reviews)\n",
    "y_train = np.array(sentiments)"
   ]
  },
  {
   "cell_type": "code",
   "execution_count": 7,
   "metadata": {
    "colab": {
     "base_uri": "https://localhost:8080/"
    },
    "executionInfo": {
     "elapsed": 3,
     "status": "ok",
     "timestamp": 1641357616806,
     "user": {
      "displayName": "성균관대학교이해인",
      "photoUrl": "https://lh3.googleusercontent.com/a/default-user=s64",
      "userId": "18353716469576030948"
     },
     "user_tz": -540
    },
    "id": "kVFuAhhNOoKv",
    "outputId": "c1200730-5b39-4679-c348-a460355ec675"
   },
   "outputs": [
    {
     "data": {
      "text/plain": [
       "<31312x5000 sparse matrix of type '<class 'numpy.int64'>'\n",
       "\twith 327373 stored elements in Compressed Sparse Row format>"
      ]
     },
     "execution_count": 7,
     "metadata": {},
     "output_type": "execute_result"
    }
   ],
   "source": [
    "x_train"
   ]
  },
  {
   "cell_type": "code",
   "execution_count": 8,
   "metadata": {
    "colab": {
     "base_uri": "https://localhost:8080/"
    },
    "executionInfo": {
     "elapsed": 197593,
     "status": "ok",
     "timestamp": 1637215601122,
     "user": {
      "displayName": "성균관대학교이해인",
      "photoUrl": "https://lh3.googleusercontent.com/a/default-user=s64",
      "userId": "18353716469576030948"
     },
     "user_tz": -540
    },
    "id": "SckP0TKnOoKy",
    "outputId": "9f04fa6f-c2a4-4cb9-d4c2-66cf02920226"
   },
   "outputs": [],
   "source": [
    "# from sklearn.ensemble import RandomForestClassifier\n",
    "\n",
    "\n",
    "# # 랜덤 포레스트 분류기에  100개 의사 결정 트리를 사용한다.\n",
    "# forest = RandomForestClassifier(max_depth= 10, n_estimators = 200, min_samples_leaf=1, min_samples_split=2) \n",
    "\n",
    "# # 단어 묶음을 벡터화한 데이터와 정답 데이터를 가지고 학습을 시작한다.\n",
    "# forest.fit(x_train, y_train)"
   ]
  },
  {
   "cell_type": "code",
   "execution_count": 9,
   "metadata": {
    "colab": {
     "base_uri": "https://localhost:8080/",
     "height": 382
    },
    "executionInfo": {
     "elapsed": 566273,
     "status": "error",
     "timestamp": 1641359081506,
     "user": {
      "displayName": "성균관대학교이해인",
      "photoUrl": "https://lh3.googleusercontent.com/a/default-user=s64",
      "userId": "18353716469576030948"
     },
     "user_tz": -540
    },
    "id": "kfAqs7rkPXAQ",
    "outputId": "d4b295a4-2319-4da6-f491-4b585afd18df"
   },
   "outputs": [
    {
     "name": "stdout",
     "output_type": "stream",
     "text": [
      "Fitting 5 folds for each of 225 candidates, totalling 1125 fits\n"
     ]
    },
    {
     "data": {
      "text/plain": [
       "GridSearchCV(cv=5, estimator=RandomForestClassifier(random_state=82), n_jobs=-1,\n",
       "             param_grid={'max_depth': [10, 20, 30, 40, 50],\n",
       "                         'min_samples_leaf': [1, 2, 4],\n",
       "                         'min_samples_split': [2, 5, 10],\n",
       "                         'n_estimators': [200, 400, 600, 800, 1000]},\n",
       "             scoring='accuracy', verbose=2)"
      ]
     },
     "execution_count": 9,
     "metadata": {},
     "output_type": "execute_result"
    }
   ],
   "source": [
    "from sklearn.ensemble import RandomForestClassifier\n",
    "from sklearn.model_selection import GridSearchCV\n",
    "\n",
    "param_list = {'max_depth': [10, 20, 30, 40, 50],\n",
    "'min_samples_leaf': [1, 2, 4],\n",
    " 'min_samples_split': [2, 5, 10],\n",
    " 'n_estimators': [200, 400, 600, 800, 1000]}\n",
    "\n",
    "rf_model = RandomForestClassifier(random_state = 82)\n",
    "\n",
    "forest = GridSearchCV(\n",
    "        estimator=rf_model,\n",
    "        param_grid = param_list,\n",
    "        cv = 5,\n",
    "        n_jobs = -1,\n",
    "        scoring = 'accuracy',\n",
    "        verbose = 2)\n",
    "\n",
    "forest.fit(x_train, y_train)"
   ]
  },
  {
   "cell_type": "code",
   "execution_count": 10,
   "metadata": {
    "executionInfo": {
     "elapsed": 3,
     "status": "aborted",
     "timestamp": 1641357877816,
     "user": {
      "displayName": "성균관대학교이해인",
      "photoUrl": "https://lh3.googleusercontent.com/a/default-user=s64",
      "userId": "18353716469576030948"
     },
     "user_tz": -540
    },
    "id": "jg0CAssiOoKz"
   },
   "outputs": [
    {
     "name": "stdout",
     "output_type": "stream",
     "text": [
      "Accuracy: 0.936350\n"
     ]
    }
   ],
   "source": [
    "print(\"Accuracy: %f\" %  forest.score(x_train, y_train))"
   ]
  },
  {
   "cell_type": "code",
   "execution_count": 11,
   "metadata": {
    "id": "VC-N68X1OoK0"
   },
   "outputs": [],
   "source": [
    "#검증데이터셋 성능 평가\n",
    "test_data = pd.read_csv('C:/Users/DSSAL/Downloads/RF_mobilehealth/revision_data/testdata_2019_beforeCovid.csv')\n",
    "test_data = test_data.dropna()\n",
    "\n",
    "test_reviews = list(test_data['clean_review'])"
   ]
  },
  {
   "cell_type": "code",
   "execution_count": 12,
   "metadata": {
    "id": "N_z90vfTOoK1"
   },
   "outputs": [],
   "source": [
    "test_data_features = vectorizer.transform(test_reviews)\n",
    "test_input = test_data_features\n",
    "\n",
    "realAnswer = list(test_data['sentiment'])\n",
    "test_label = np.array(realAnswer)"
   ]
  },
  {
   "cell_type": "code",
   "execution_count": 13,
   "metadata": {
    "id": "yubFTrLaOoK2"
   },
   "outputs": [],
   "source": [
    "rf_pred = forest.predict(test_input)"
   ]
  },
  {
   "cell_type": "code",
   "execution_count": 14,
   "metadata": {
    "colab": {
     "base_uri": "https://localhost:8080/"
    },
    "executionInfo": {
     "elapsed": 8,
     "status": "ok",
     "timestamp": 1637215608278,
     "user": {
      "displayName": "성균관대학교이해인",
      "photoUrl": "https://lh3.googleusercontent.com/a/default-user=s64",
      "userId": "18353716469576030948"
     },
     "user_tz": -540
    },
    "id": "i8hQDCV01IRi",
    "outputId": "f6abb8c7-9bbd-43a2-d731-a49a0c9b19c5"
   },
   "outputs": [
    {
     "name": "stdout",
     "output_type": "stream",
     "text": [
      "Accuracy: 0.861768\n"
     ]
    }
   ],
   "source": [
    "print(\"Accuracy: %f\" % accuracy_score(test_label, rf_pred))"
   ]
  },
  {
   "cell_type": "code",
   "execution_count": 15,
   "metadata": {
    "colab": {
     "base_uri": "https://localhost:8080/",
     "height": 343
    },
    "executionInfo": {
     "elapsed": 601,
     "status": "ok",
     "timestamp": 1637215608873,
     "user": {
      "displayName": "성균관대학교이해인",
      "photoUrl": "https://lh3.googleusercontent.com/a/default-user=s64",
      "userId": "18353716469576030948"
     },
     "user_tz": -540
    },
    "id": "Jn9SowAM1IYP",
    "outputId": "83722173-423d-4d57-81e5-e6eeae108ef8"
   },
   "outputs": [
    {
     "data": {
      "text/plain": [
       "Text(0.5, 257.44, 'Predicted label')"
      ]
     },
     "execution_count": 15,
     "metadata": {},
     "output_type": "execute_result"
    },
    {
     "data": {
      "image/png": "[encoded data removed]",
      "text/plain": [
       "<Figure size 432x288 with 2 Axes>"
      ]
     },
     "metadata": {
      "needs_background": "light"
     },
     "output_type": "display_data"
    }
   ],
   "source": [
    "cnf_matrix = metrics.confusion_matrix(test_label, rf_pred)\n",
    "\n",
    "class_names=[0,1] # name  of classes\n",
    "fig, ax = plt.subplots()\n",
    "tick_marks = np.arange(len(class_names))\n",
    "plt.xticks(tick_marks, class_names)\n",
    "plt.yticks(tick_marks, class_names)\n",
    "# create heatmap\n",
    "sns.heatmap(pd.DataFrame(cnf_matrix), annot=True, cmap=\"YlGnBu\" ,fmt='g')\n",
    "ax.xaxis.set_label_position(\"top\")\n",
    "plt.tight_layout()\n",
    "plt.title('Confusion matrix', y=1.1)\n",
    "plt.ylabel('Actual label')\n",
    "plt.xlabel('Predicted label')"
   ]
  },
  {
   "cell_type": "code",
   "execution_count": 16,
   "metadata": {
    "colab": {
     "base_uri": "https://localhost:8080/"
    },
    "executionInfo": {
     "elapsed": 16,
     "status": "ok",
     "timestamp": 1637215608875,
     "user": {
      "displayName": "성균관대학교이해인",
      "photoUrl": "https://lh3.googleusercontent.com/a/default-user=s64",
      "userId": "18353716469576030948"
     },
     "user_tz": -540
    },
    "id": "fYxl_IQa1bb7",
    "outputId": "b2ffae63-6f0d-408c-8348-18cc39bdb3f7"
   },
   "outputs": [
    {
     "name": "stdout",
     "output_type": "stream",
     "text": [
      "Accuracy: 0.8617680180180181\n",
      "Precision: 0.8313563692625064\n",
      "Recall: 0.9076576576576577\n"
     ]
    }
   ],
   "source": [
    "print(\"Accuracy:\",metrics.accuracy_score(test_label, rf_pred))\n",
    "print(\"Precision:\",metrics.precision_score(test_label, rf_pred))\n",
    "print(\"Recall:\",metrics.recall_score(test_label, rf_pred))"
   ]
  },
  {
   "cell_type": "code",
   "execution_count": 17,
   "metadata": {
    "id": "J4v4xTeo60R_"
   },
   "outputs": [],
   "source": [
    "import joblib \n",
    "\n",
    "# 모델 저장\n",
    "joblib.dump(forest, 'C:/Users/DSSAL/Downloads/RF_mobilehealth/rf_bow_with_gridsearch_beforeCovid.pkl')\n",
    "\n",
    "# 모델 불러오기\n",
    "rf_model = joblib.load('C:/Users/DSSAL/Downloads/RF_mobilehealth/rf_bow_with_gridsearch_beforeCovid.pkl')"
   ]
  },
  {
   "cell_type": "code",
   "execution_count": 18,
   "metadata": {
    "colab": {
     "base_uri": "https://localhost:8080/"
    },
    "executionInfo": {
     "elapsed": 23,
     "status": "ok",
     "timestamp": 1637215757037,
     "user": {
      "displayName": "성균관대학교이해인",
      "photoUrl": "https://lh3.googleusercontent.com/a/default-user=s64",
      "userId": "18353716469576030948"
     },
     "user_tz": -540
    },
    "id": "EC8pWmBs60UM",
    "outputId": "eaa41ec0-e469-4caa-89bb-f4dbdb23cab7"
   },
   "outputs": [
    {
     "data": {
      "text/plain": [
       "GridSearchCV(cv=5, estimator=RandomForestClassifier(random_state=82), n_jobs=-1,\n",
       "             param_grid={'max_depth': [10, 20, 30, 40, 50],\n",
       "                         'min_samples_leaf': [1, 2, 4],\n",
       "                         'min_samples_split': [2, 5, 10],\n",
       "                         'n_estimators': [200, 400, 600, 800, 1000]},\n",
       "             scoring='accuracy', verbose=2)"
      ]
     },
     "execution_count": 18,
     "metadata": {},
     "output_type": "execute_result"
    }
   ],
   "source": [
    "rf_model"
   ]
  },
  {
   "cell_type": "code",
   "execution_count": 19,
   "metadata": {
    "colab": {
     "base_uri": "https://localhost:8080/"
    },
    "executionInfo": {
     "elapsed": 1632,
     "status": "ok",
     "timestamp": 1637215759033,
     "user": {
      "displayName": "성균관대학교이해인",
      "photoUrl": "https://lh3.googleusercontent.com/a/default-user=s64",
      "userId": "18353716469576030948"
     },
     "user_tz": -540
    },
    "id": "EFIvcC2160WA",
    "outputId": "b75e5d02-f313-469b-8c94-cbc4a255f7d9"
   },
   "outputs": [
    {
     "data": {
      "text/plain": [
       "0.8617680180180181"
      ]
     },
     "execution_count": 19,
     "metadata": {},
     "output_type": "execute_result"
    }
   ],
   "source": [
    "from sklearn.metrics import accuracy_score, confusion_matrix, classification_report\n",
    "\n",
    "y_pred = rf_model.predict(test_input)\n",
    "predictions = [value for value in y_pred]\n",
    "\n",
    "accuracy_score(test_label, predictions)"
   ]
  },
  {
   "cell_type": "code",
   "execution_count": 20,
   "metadata": {
    "colab": {
     "base_uri": "https://localhost:8080/",
     "height": 204
    },
    "executionInfo": {
     "elapsed": 17,
     "status": "ok",
     "timestamp": 1637215759034,
     "user": {
      "displayName": "성균관대학교이해인",
      "photoUrl": "https://lh3.googleusercontent.com/a/default-user=s64",
      "userId": "18353716469576030948"
     },
     "user_tz": -540
    },
    "id": "TyOpTcFI1bdz",
    "outputId": "60a8d2a1-6e53-4817-bb89-288a07453b93"
   },
   "outputs": [
    {
     "data": {
      "text/html": [
       "<div>\n",
       "<style scoped>\n",
       "    .dataframe tbody tr th:only-of-type {\n",
       "        vertical-align: middle;\n",
       "    }\n",
       "\n",
       "    .dataframe tbody tr th {\n",
       "        vertical-align: top;\n",
       "    }\n",
       "\n",
       "    .dataframe thead th {\n",
       "        text-align: right;\n",
       "    }\n",
       "</style>\n",
       "<table border=\"1\" class=\"dataframe\">\n",
       "  <thead>\n",
       "    <tr style=\"text-align: right;\">\n",
       "      <th></th>\n",
       "      <th>precision</th>\n",
       "      <th>recall</th>\n",
       "      <th>f1-score</th>\n",
       "      <th>support</th>\n",
       "    </tr>\n",
       "  </thead>\n",
       "  <tbody>\n",
       "    <tr>\n",
       "      <th>class low</th>\n",
       "      <td>0.898326</td>\n",
       "      <td>0.815878</td>\n",
       "      <td>0.855120</td>\n",
       "      <td>7104.000000</td>\n",
       "    </tr>\n",
       "    <tr>\n",
       "      <th>class high</th>\n",
       "      <td>0.831356</td>\n",
       "      <td>0.907658</td>\n",
       "      <td>0.867833</td>\n",
       "      <td>7104.000000</td>\n",
       "    </tr>\n",
       "    <tr>\n",
       "      <th>accuracy</th>\n",
       "      <td>0.861768</td>\n",
       "      <td>0.861768</td>\n",
       "      <td>0.861768</td>\n",
       "      <td>0.861768</td>\n",
       "    </tr>\n",
       "    <tr>\n",
       "      <th>macro avg</th>\n",
       "      <td>0.864841</td>\n",
       "      <td>0.861768</td>\n",
       "      <td>0.861476</td>\n",
       "      <td>14208.000000</td>\n",
       "    </tr>\n",
       "    <tr>\n",
       "      <th>weighted avg</th>\n",
       "      <td>0.864841</td>\n",
       "      <td>0.861768</td>\n",
       "      <td>0.861476</td>\n",
       "      <td>14208.000000</td>\n",
       "    </tr>\n",
       "  </tbody>\n",
       "</table>\n",
       "</div>"
      ],
      "text/plain": [
       "              precision    recall  f1-score       support\n",
       "class low      0.898326  0.815878  0.855120   7104.000000\n",
       "class high     0.831356  0.907658  0.867833   7104.000000\n",
       "accuracy       0.861768  0.861768  0.861768      0.861768\n",
       "macro avg      0.864841  0.861768  0.861476  14208.000000\n",
       "weighted avg   0.864841  0.861768  0.861476  14208.000000"
      ]
     },
     "execution_count": 20,
     "metadata": {},
     "output_type": "execute_result"
    }
   ],
   "source": [
    "from sklearn.metrics import classification_report\n",
    "\n",
    "report = classification_report(test_label, y_pred, target_names=['class low', 'class high'], output_dict=True)\n",
    "df = pd.DataFrame(report).transpose()\n",
    "\n",
    "df"
   ]
  },
  {
   "cell_type": "code",
   "execution_count": 21,
   "metadata": {
    "id": "pes_7qcP1bhU"
   },
   "outputs": [
    {
     "data": {
      "text/plain": [
       "{'max_depth': 50,\n",
       " 'min_samples_leaf': 1,\n",
       " 'min_samples_split': 2,\n",
       " 'n_estimators': 1000}"
      ]
     },
     "execution_count": 21,
     "metadata": {},
     "output_type": "execute_result"
    }
   ],
   "source": [
    "forest.best_params_"
   ]
  },
  {
   "cell_type": "code",
   "execution_count": null,
   "metadata": {},
   "outputs": [],
   "source": []
  }
 ],
 "metadata": {
  "accelerator": "GPU",
  "colab": {
   "collapsed_sections": [],
   "name": "Random Forest with bow.ipynb",
   "provenance": []
  },
  "kernelspec": {
   "display_name": "Python 3",
   "language": "python",
   "name": "python3"
  },
  "language_info": {
   "codemirror_mode": {
    "name": "ipython",
    "version": 3
   },
   "file_extension": ".py",
   "mimetype": "text/x-python",
   "name": "python",
   "nbconvert_exporter": "python",
   "pygments_lexer": "ipython3",
   "version": "3.7.7"
  }
 },
 "nbformat": 4,
 "nbformat_minor": 1
}
