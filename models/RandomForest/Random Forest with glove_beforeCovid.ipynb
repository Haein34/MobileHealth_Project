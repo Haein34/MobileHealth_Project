{
 "cells": [
  {
   "cell_type": "code",
   "execution_count": 1,
   "metadata": {
    "colab": {
     "base_uri": "https://localhost:8080/"
    },
    "executionInfo": {
     "elapsed": 3759,
     "status": "ok",
     "timestamp": 1637214981170,
     "user": {
      "displayName": "성균관대학교이해인",
      "photoUrl": "https://lh3.googleusercontent.com/a/default-user=s64",
      "userId": "18353716469576030948"
     },
     "user_tz": -540
    },
    "id": "r3OnYdeaLSRg",
    "outputId": "c79b465c-5113-4011-8654-77c38ea51404"
   },
   "outputs": [
    {
     "name": "stdout",
     "output_type": "stream",
     "text": [
      "Collecting glove-python-binary\n",
      "  Downloading glove_python_binary-0.2.0-cp38-cp38-win_amd64.whl (244 kB)\n",
      "Requirement already satisfied: numpy in c:\\users\\dssalpc\\anaconda3\\lib\\site-packages (from glove-python-binary) (1.20.1)\n",
      "Requirement already satisfied: scipy in c:\\users\\dssalpc\\anaconda3\\lib\\site-packages (from glove-python-binary) (1.6.2)\n",
      "Installing collected packages: glove-python-binary\n",
      "Successfully installed glove-python-binary-0.2.0\n"
     ]
    }
   ],
   "source": [
    "! pip install glove-python-binary"
   ]
  },
  {
   "cell_type": "code",
   "execution_count": 2,
   "metadata": {
    "executionInfo": {
     "elapsed": 1415,
     "status": "ok",
     "timestamp": 1637215000091,
     "user": {
      "displayName": "성균관대학교이해인",
      "photoUrl": "https://lh3.googleusercontent.com/a/default-user=s64",
      "userId": "18353716469576030948"
     },
     "user_tz": -540
    },
    "id": "xFzMKyQcLSRk"
   },
   "outputs": [],
   "source": [
    "import os\n",
    "import re\n",
    "\n",
    "import pandas as pd\n",
    "import numpy as np\n",
    "\n",
    "from nltk.corpus import stopwords\n",
    "from nltk.tokenize import word_tokenize\n",
    "from glove import Corpus, Glove\n",
    "\n",
    "from sklearn.metrics import accuracy_score\n",
    "from sklearn import metrics\n",
    "import seaborn as sns\n",
    "import matplotlib.pyplot as plt\n",
    "%matplotlib inline"
   ]
  },
  {
   "cell_type": "code",
   "execution_count": 11,
   "metadata": {
    "executionInfo": {
     "elapsed": 351,
     "status": "ok",
     "timestamp": 1637216740620,
     "user": {
      "displayName": "성균관대학교이해인",
      "photoUrl": "https://lh3.googleusercontent.com/a/default-user=s64",
      "userId": "18353716469576030948"
     },
     "user_tz": -540
    },
    "id": "Bqb5IuYqLSRl"
   },
   "outputs": [],
   "source": [
    "train_data = pd.read_csv('C:/Users/dssalpc/Downloads/RF_mobilehealth/revision_data/traindata_2015_2018_beforeCovid.csv')"
   ]
  },
  {
   "cell_type": "code",
   "execution_count": 12,
   "metadata": {
    "executionInfo": {
     "elapsed": 16,
     "status": "ok",
     "timestamp": 1637216740622,
     "user": {
      "displayName": "성균관대학교이해인",
      "photoUrl": "https://lh3.googleusercontent.com/a/default-user=s64",
      "userId": "18353716469576030948"
     },
     "user_tz": -540
    },
    "id": "-iNyxBqULSRm"
   },
   "outputs": [],
   "source": [
    "train_data = train_data.dropna()"
   ]
  },
  {
   "cell_type": "code",
   "execution_count": 13,
   "metadata": {
    "executionInfo": {
     "elapsed": 8,
     "status": "ok",
     "timestamp": 1637216743632,
     "user": {
      "displayName": "성균관대학교이해인",
      "photoUrl": "https://lh3.googleusercontent.com/a/default-user=s64",
      "userId": "18353716469576030948"
     },
     "user_tz": -540
    },
    "id": "tv1s8xyMLSRm"
   },
   "outputs": [],
   "source": [
    "reviews = list(train_data['clean_review'])\n",
    "sentiments = list(train_data['sentiment'])"
   ]
  },
  {
   "cell_type": "code",
   "execution_count": 14,
   "metadata": {
    "executionInfo": {
     "elapsed": 6,
     "status": "ok",
     "timestamp": 1637216744606,
     "user": {
      "displayName": "성균관대학교이해인",
      "photoUrl": "https://lh3.googleusercontent.com/a/default-user=s64",
      "userId": "18353716469576030948"
     },
     "user_tz": -540
    },
    "id": "7776LydJLSRn"
   },
   "outputs": [],
   "source": [
    "token = []\n",
    "for review in reviews:\n",
    "    token.append(review.split())"
   ]
  },
  {
   "cell_type": "code",
   "execution_count": 15,
   "metadata": {
    "executionInfo": {
     "elapsed": 6807,
     "status": "ok",
     "timestamp": 1637216752229,
     "user": {
      "displayName": "성균관대학교이해인",
      "photoUrl": "https://lh3.googleusercontent.com/a/default-user=s64",
      "userId": "18353716469576030948"
     },
     "user_tz": -540
    },
    "id": "VRffErXCLSRo"
   },
   "outputs": [],
   "source": [
    "#Glove Corpus 생성\n",
    "corpus = Corpus()\n",
    "corpus.fit(token, window=20)"
   ]
  },
  {
   "cell_type": "code",
   "execution_count": 16,
   "metadata": {
    "colab": {
     "base_uri": "https://localhost:8080/"
    },
    "executionInfo": {
     "elapsed": 479443,
     "status": "ok",
     "timestamp": 1637217231668,
     "user": {
      "displayName": "성균관대학교이해인",
      "photoUrl": "https://lh3.googleusercontent.com/a/default-user=s64",
      "userId": "18353716469576030948"
     },
     "user_tz": -540
    },
    "id": "gW1HDFWHLSRp",
    "outputId": "54573ee2-32ae-4696-a201-e0d6b3cc59bc"
   },
   "outputs": [
    {
     "name": "stdout",
     "output_type": "stream",
     "text": [
      "Wall time: 12.7 s\n"
     ]
    }
   ],
   "source": [
    "# model\n",
    "glove = Glove(no_components=128, learning_rate=0.01)     \n",
    "%time glove.fit(corpus.matrix, epochs=50, no_threads=4, verbose=False)    \n",
    "glove.add_dictionary(corpus.dictionary)\n",
    "\n",
    "# save\n",
    "glove.save('./glove_w20_epoch50.model')"
   ]
  },
  {
   "cell_type": "code",
   "execution_count": 17,
   "metadata": {
    "colab": {
     "base_uri": "https://localhost:8080/"
    },
    "executionInfo": {
     "elapsed": 488,
     "status": "ok",
     "timestamp": 1637217233185,
     "user": {
      "displayName": "성균관대학교이해인",
      "photoUrl": "https://lh3.googleusercontent.com/a/default-user=s64",
      "userId": "18353716469576030948"
     },
     "user_tz": -540
    },
    "id": "udXkUMH8QLRY",
    "outputId": "5abb09ed-bb5b-45c6-cee5-6f099414903e"
   },
   "outputs": [
    {
     "name": "stdout",
     "output_type": "stream",
     "text": [
      "[Success !] Lengh of word dict... :  8863\n"
     ]
    }
   ],
   "source": [
    "# load glove\n",
    "glove_model = Glove.load('./glove_w20_epoch50.model')\n",
    "\n",
    "# word dict 생성\n",
    "word_dict = {}\n",
    "for word in  glove_model.dictionary.keys():\n",
    "    word_dict[word] = glove_model.word_vectors[glove_model.dictionary[word]]\n",
    "print('[Success !] Lengh of word dict... : ', len(word_dict))"
   ]
  },
  {
   "cell_type": "code",
   "execution_count": 18,
   "metadata": {
    "colab": {
     "base_uri": "https://localhost:8080/"
    },
    "executionInfo": {
     "elapsed": 4622,
     "status": "ok",
     "timestamp": 1637217237803,
     "user": {
      "displayName": "성균관대학교이해인",
      "photoUrl": "https://lh3.googleusercontent.com/a/default-user=s64",
      "userId": "18353716469576030948"
     },
     "user_tz": -540
    },
    "id": "9P83LUDHQEq9",
    "outputId": "51a63c58-2ef4-4d3d-e6c1-ebd35890166a"
   },
   "outputs": [
    {
     "name": "stdout",
     "output_type": "stream",
     "text": [
      "[Success !] Save word dict!...\n"
     ]
    }
   ],
   "source": [
    "# save word_dict\n",
    "import pickle\n",
    "with open('./glove_word_dict_128.pickle', 'wb') as f:\n",
    "    pickle.dump(word_dict, f)\n",
    "print('[Success !] Save word dict!...')"
   ]
  },
  {
   "cell_type": "code",
   "execution_count": 20,
   "metadata": {
    "executionInfo": {
     "elapsed": 1356,
     "status": "ok",
     "timestamp": 1637216653747,
     "user": {
      "displayName": "성균관대학교이해인",
      "photoUrl": "https://lh3.googleusercontent.com/a/default-user=s64",
      "userId": "18353716469576030948"
     },
     "user_tz": -540
    },
    "id": "yTcZKmcGS8LT"
   },
   "outputs": [],
   "source": [
    "# test data 임베딩 준비\n",
    "TEST_CLEAN_DATA = 'test_clean.csv'\n",
    "\n",
    "test_data = pd.read_csv('C:/Users/dssalpc/Downloads/RF_mobilehealth/revision_data/testdata_2019_beforeCovid.csv')\n",
    "test_data = test_data.dropna()\n",
    "test_reviews = list(test_data['contents'])"
   ]
  },
  {
   "cell_type": "code",
   "execution_count": 21,
   "metadata": {
    "executionInfo": {
     "elapsed": 517,
     "status": "ok",
     "timestamp": 1637217268914,
     "user": {
      "displayName": "성균관대학교이해인",
      "photoUrl": "https://lh3.googleusercontent.com/a/default-user=s64",
      "userId": "18353716469576030948"
     },
     "user_tz": -540
    },
    "id": "WyabXheTS8O6"
   },
   "outputs": [],
   "source": [
    "test_tokens = []\n",
    "for review in test_reviews:\n",
    "    test_tokens.append(review.split())"
   ]
  },
  {
   "cell_type": "code",
   "execution_count": 22,
   "metadata": {
    "colab": {
     "base_uri": "https://localhost:8080/"
    },
    "executionInfo": {
     "elapsed": 639,
     "status": "ok",
     "timestamp": 1637217270854,
     "user": {
      "displayName": "성균관대학교이해인",
      "photoUrl": "https://lh3.googleusercontent.com/a/default-user=s64",
      "userId": "18353716469576030948"
     },
     "user_tz": -540
    },
    "id": "Y10z7YzxSunL",
    "outputId": "7d57bdd5-e4a0-49ea-822e-f0aa2e4d82a0"
   },
   "outputs": [
    {
     "name": "stdout",
     "output_type": "stream",
     "text": [
      "no train word -> 0.... 20153\n",
      "token -> word embedding....! 8990\n"
     ]
    }
   ],
   "source": [
    "# test data 워드 임베딩 // ...?왜한걸까..?\n",
    "# word dict : train데이터의 임베딩 사전\n",
    "total_word_dict = {}\n",
    "cnt = 0\n",
    "\n",
    "for word in test_tokens:\n",
    "    for i in range(len(word)):\n",
    "        if word[i] in word_dict.keys():\n",
    "            total_word_dict[word[i]] = word_dict[word[i]]\n",
    "        else:\n",
    "            word_dict[word[i]] = np.zeros((128))\n",
    "            cnt += 1  # 처음 본 단어 갯수 세기\n",
    "\n",
    "print('no train word -> 0....', cnt)\n",
    "print('token -> word embedding....!',len(total_word_dict))"
   ]
  },
  {
   "cell_type": "code",
   "execution_count": 23,
   "metadata": {
    "executionInfo": {
     "elapsed": 4,
     "status": "ok",
     "timestamp": 1637217271558,
     "user": {
      "displayName": "성균관대학교이해인",
      "photoUrl": "https://lh3.googleusercontent.com/a/default-user=s64",
      "userId": "18353716469576030948"
     },
     "user_tz": -540
    },
    "id": "80zO11jmMvNm"
   },
   "outputs": [],
   "source": [
    "# embedding\n",
    "def sent2vec_glove(tokens, embedding_dim=128):\n",
    "    '''문장 token 리스트를 받아서 임베딩 시킨다.'''\n",
    "  \n",
    "    size = len(tokens)\n",
    "    matrix = np.zeros((size, embedding_dim))\n",
    "    word_table = word_dict     # glove word_dict\n",
    "\n",
    "    for i, token in enumerate(tokens):\n",
    "        vector = np.array([\n",
    "            word_table[t] for t in token\n",
    "            if t in word_table\n",
    "        ])\n",
    "\n",
    "        if vector.size != 0:\n",
    "            final_vector = np.mean(vector, axis=0)\n",
    "            matrix[i] = final_vector\n",
    "\n",
    "    return matrix"
   ]
  },
  {
   "cell_type": "code",
   "execution_count": 24,
   "metadata": {
    "colab": {
     "base_uri": "https://localhost:8080/"
    },
    "executionInfo": {
     "elapsed": 6180,
     "status": "ok",
     "timestamp": 1637217279458,
     "user": {
      "displayName": "성균관대학교이해인",
      "photoUrl": "https://lh3.googleusercontent.com/a/default-user=s64",
      "userId": "18353716469576030948"
     },
     "user_tz": -540
    },
    "id": "zM0e4AQNLSRs",
    "outputId": "3a8b703b-99eb-4a81-addd-38336f6d2212"
   },
   "outputs": [
    {
     "data": {
      "text/plain": [
       "(31312, 128)"
      ]
     },
     "execution_count": 24,
     "metadata": {},
     "output_type": "execute_result"
    }
   ],
   "source": [
    "# 문장 임베딩\n",
    "sentence_glove = sent2vec_glove(reviews)\n",
    "sentence_glove.shape"
   ]
  },
  {
   "cell_type": "code",
   "execution_count": 25,
   "metadata": {
    "executionInfo": {
     "elapsed": 7,
     "status": "ok",
     "timestamp": 1637217279459,
     "user": {
      "displayName": "성균관대학교이해인",
      "photoUrl": "https://lh3.googleusercontent.com/a/default-user=s64",
      "userId": "18353716469576030948"
     },
     "user_tz": -540
    },
    "id": "Po3CuUE7LSRs"
   },
   "outputs": [],
   "source": [
    "from sklearn.model_selection import train_test_split\n",
    "import numpy as np\n",
    "\n",
    "x_train = sentence_glove\n",
    "y_train = np.array(sentiments)"
   ]
  },
  {
   "cell_type": "code",
   "execution_count": 26,
   "metadata": {
    "colab": {
     "base_uri": "https://localhost:8080/"
    },
    "executionInfo": {
     "elapsed": 153311,
     "status": "ok",
     "timestamp": 1637217432764,
     "user": {
      "displayName": "성균관대학교이해인",
      "photoUrl": "https://lh3.googleusercontent.com/a/default-user=s64",
      "userId": "18353716469576030948"
     },
     "user_tz": -540
    },
    "id": "lPhQguFVLSRs",
    "outputId": "7cd51cb7-6f19-4f31-9794-7e0a30f4f869"
   },
   "outputs": [
    {
     "name": "stdout",
     "output_type": "stream",
     "text": [
      "Fitting 5 folds for each of 225 candidates, totalling 1125 fits\n"
     ]
    },
    {
     "data": {
      "text/plain": [
       "GridSearchCV(cv=5, estimator=RandomForestClassifier(random_state=82), n_jobs=-1,\n",
       "             param_grid={'max_depth': [10, 20, 30, 40, 50],\n",
       "                         'min_samples_leaf': [1, 2, 4],\n",
       "                         'min_samples_split': [2, 5, 10],\n",
       "                         'n_estimators': [200, 400, 600, 800, 1000]},\n",
       "             scoring='accuracy', verbose=2)"
      ]
     },
     "execution_count": 26,
     "metadata": {},
     "output_type": "execute_result"
    }
   ],
   "source": [
    "from sklearn.ensemble import RandomForestClassifier\n",
    "from sklearn.model_selection import GridSearchCV\n",
    "\n",
    "param_list = {'max_depth': [10, 20, 30, 40, 50],\n",
    "              'min_samples_leaf': [1, 2, 4],\n",
    "              'min_samples_split': [2, 5, 10],\n",
    "              'n_estimators': [200, 400, 600, 800, 1000]\n",
    "}\n",
    "\n",
    "rf_model = RandomForestClassifier(random_state = 82)\n",
    "\n",
    "forest = GridSearchCV(\n",
    "        estimator=rf_model,\n",
    "        param_grid = param_list,\n",
    "        cv = 5,\n",
    "        n_jobs = -1,\n",
    "        scoring = 'accuracy',\n",
    "        verbose = 2)\n",
    "\n",
    "forest.fit(x_train, y_train)"
   ]
  },
  {
   "cell_type": "code",
   "execution_count": 27,
   "metadata": {
    "executionInfo": {
     "elapsed": 1416,
     "status": "ok",
     "timestamp": 1637217434174,
     "user": {
      "displayName": "성균관대학교이해인",
      "photoUrl": "https://lh3.googleusercontent.com/a/default-user=s64",
      "userId": "18353716469576030948"
     },
     "user_tz": -540
    },
    "id": "CWCZHOePLSRt"
   },
   "outputs": [],
   "source": [
    "sentence_glove = sent2vec_glove(test_reviews)\n",
    "\n",
    "test_input = sentence_glove"
   ]
  },
  {
   "cell_type": "code",
   "execution_count": 28,
   "metadata": {
    "executionInfo": {
     "elapsed": 14,
     "status": "ok",
     "timestamp": 1637217434176,
     "user": {
      "displayName": "성균관대학교이해인",
      "photoUrl": "https://lh3.googleusercontent.com/a/default-user=s64",
      "userId": "18353716469576030948"
     },
     "user_tz": -540
    },
    "id": "C3IvxNeKXa8m"
   },
   "outputs": [],
   "source": [
    "realAnswer = list(test_data['sentiment'])\n",
    "test_label = np.array(realAnswer)"
   ]
  },
  {
   "cell_type": "code",
   "execution_count": 29,
   "metadata": {
    "executionInfo": {
     "elapsed": 679,
     "status": "ok",
     "timestamp": 1637217434842,
     "user": {
      "displayName": "성균관대학교이해인",
      "photoUrl": "https://lh3.googleusercontent.com/a/default-user=s64",
      "userId": "18353716469576030948"
     },
     "user_tz": -540
    },
    "id": "FpzEE2sA2vt3"
   },
   "outputs": [],
   "source": [
    "rf_pred = forest.predict(test_input)"
   ]
  },
  {
   "cell_type": "code",
   "execution_count": 30,
   "metadata": {
    "colab": {
     "base_uri": "https://localhost:8080/"
    },
    "executionInfo": {
     "elapsed": 31,
     "status": "ok",
     "timestamp": 1637217434842,
     "user": {
      "displayName": "성균관대학교이해인",
      "photoUrl": "https://lh3.googleusercontent.com/a/default-user=s64",
      "userId": "18353716469576030948"
     },
     "user_tz": -540
    },
    "id": "RX94ddVYLSRu",
    "outputId": "bf44e3c2-6d8f-4f8a-d88a-eaf553aafcb9"
   },
   "outputs": [
    {
     "name": "stdout",
     "output_type": "stream",
     "text": [
      "Accuracy: 0.738598\n"
     ]
    }
   ],
   "source": [
    "print(\"Accuracy: %f\" % accuracy_score(test_label, rf_pred))"
   ]
  },
  {
   "cell_type": "code",
   "execution_count": 31,
   "metadata": {
    "colab": {
     "base_uri": "https://localhost:8080/",
     "height": 343
    },
    "executionInfo": {
     "elapsed": 440,
     "status": "ok",
     "timestamp": 1637217435278,
     "user": {
      "displayName": "성균관대학교이해인",
      "photoUrl": "https://lh3.googleusercontent.com/a/default-user=s64",
      "userId": "18353716469576030948"
     },
     "user_tz": -540
    },
    "id": "3Bd1l2ssLSRu",
    "outputId": "795cf45f-ca32-4b7f-d161-af306ac906ff"
   },
   "outputs": [
    {
     "data": {
      "text/plain": [
       "Text(0.5, 257.44, 'Predicted label')"
      ]
     },
     "execution_count": 31,
     "metadata": {},
     "output_type": "execute_result"
    },
    {
     "data": {
      "image/png": "[encoded data removed]",
      "text/plain": [
       "<Figure size 432x288 with 2 Axes>"
      ]
     },
     "metadata": {
      "needs_background": "light"
     },
     "output_type": "display_data"
    }
   ],
   "source": [
    "cnf_matrix = metrics.confusion_matrix(test_label, rf_pred)\n",
    "\n",
    "class_names=[0,1] # name  of classes\n",
    "fig, ax = plt.subplots()\n",
    "tick_marks = np.arange(len(class_names))\n",
    "plt.xticks(tick_marks, class_names)\n",
    "plt.yticks(tick_marks, class_names)\n",
    "# create heatmap\n",
    "sns.heatmap(pd.DataFrame(cnf_matrix), annot=True, cmap=\"YlGnBu\" ,fmt='g')\n",
    "ax.xaxis.set_label_position(\"top\")\n",
    "plt.tight_layout()\n",
    "plt.title('Confusion matrix', y=1.1)\n",
    "plt.ylabel('Actual label')\n",
    "plt.xlabel('Predicted label')"
   ]
  },
  {
   "cell_type": "code",
   "execution_count": 32,
   "metadata": {
    "colab": {
     "base_uri": "https://localhost:8080/"
    },
    "executionInfo": {
     "elapsed": 19,
     "status": "ok",
     "timestamp": 1637217435280,
     "user": {
      "displayName": "성균관대학교이해인",
      "photoUrl": "https://lh3.googleusercontent.com/a/default-user=s64",
      "userId": "18353716469576030948"
     },
     "user_tz": -540
    },
    "id": "twOAlHSb22LN",
    "outputId": "929a807f-4382-4e63-854f-d946cff841e1"
   },
   "outputs": [
    {
     "name": "stdout",
     "output_type": "stream",
     "text": [
      "Accuracy: 0.738597972972973\n",
      "Precision: 0.8298949007395874\n",
      "Recall: 0.6002252252252253\n"
     ]
    }
   ],
   "source": [
    "print(\"Accuracy:\",metrics.accuracy_score(test_label, rf_pred))\n",
    "print(\"Precision:\",metrics.precision_score(test_label, rf_pred))\n",
    "print(\"Recall:\",metrics.recall_score(test_label, rf_pred))"
   ]
  },
  {
   "cell_type": "code",
   "execution_count": 39,
   "metadata": {
    "executionInfo": {
     "elapsed": 1221,
     "status": "ok",
     "timestamp": 1637217804264,
     "user": {
      "displayName": "성균관대학교이해인",
      "photoUrl": "https://lh3.googleusercontent.com/a/default-user=s64",
      "userId": "18353716469576030948"
     },
     "user_tz": -540
    },
    "id": "m7MW_SKb23pa"
   },
   "outputs": [],
   "source": [
    "import joblib\n",
    "\n",
    "# 모델 저장\n",
    "joblib.dump(forest, 'C:/Users/dssalpc/Downloads/RF_mobilehealth/rf_glove_with_gridsearch_beforeCovid.pkl')\n",
    "\n",
    "# 모델 불러오기\n",
    "rf_model = joblib.load('C:/Users/dssalpc/Downloads/RF_mobilehealth/rf_glove_with_gridsearch_beforeCovid.pkl')"
   ]
  },
  {
   "cell_type": "code",
   "execution_count": 40,
   "metadata": {
    "colab": {
     "base_uri": "https://localhost:8080/"
    },
    "executionInfo": {
     "elapsed": 427,
     "status": "ok",
     "timestamp": 1637217805117,
     "user": {
      "displayName": "성균관대학교이해인",
      "photoUrl": "https://lh3.googleusercontent.com/a/default-user=s64",
      "userId": "18353716469576030948"
     },
     "user_tz": -540
    },
    "id": "MIpBnvR5A8kk",
    "outputId": "f8bad65b-f499-4aa9-b5e4-a501f9b1d389"
   },
   "outputs": [
    {
     "data": {
      "text/plain": [
       "GridSearchCV(cv=5, estimator=RandomForestClassifier(random_state=82), n_jobs=-1,\n",
       "             param_grid={'max_depth': [10, 20, 30, 40, 50],\n",
       "                         'min_samples_leaf': [1, 2, 4],\n",
       "                         'min_samples_split': [2, 5, 10],\n",
       "                         'n_estimators': [200, 400, 600, 800, 1000]},\n",
       "             scoring='accuracy', verbose=2)"
      ]
     },
     "execution_count": 40,
     "metadata": {},
     "output_type": "execute_result"
    }
   ],
   "source": [
    "rf_model"
   ]
  },
  {
   "cell_type": "code",
   "execution_count": 41,
   "metadata": {
    "colab": {
     "base_uri": "https://localhost:8080/"
    },
    "executionInfo": {
     "elapsed": 808,
     "status": "ok",
     "timestamp": 1637217806256,
     "user": {
      "displayName": "성균관대학교이해인",
      "photoUrl": "https://lh3.googleusercontent.com/a/default-user=s64",
      "userId": "18353716469576030948"
     },
     "user_tz": -540
    },
    "id": "YHkugjplA-Lv",
    "outputId": "1c275f0d-ca54-485f-dcf5-a8d3f288625a"
   },
   "outputs": [
    {
     "data": {
      "text/plain": [
       "0.738597972972973"
      ]
     },
     "execution_count": 41,
     "metadata": {},
     "output_type": "execute_result"
    }
   ],
   "source": [
    "from sklearn.metrics import accuracy_score, confusion_matrix, classification_report\n",
    "\n",
    "y_pred = rf_model.predict(test_input)\n",
    "predictions = [value for value in y_pred]\n",
    "\n",
    "accuracy_score(test_label, predictions)"
   ]
  },
  {
   "cell_type": "code",
   "execution_count": 42,
   "metadata": {
    "colab": {
     "base_uri": "https://localhost:8080/",
     "height": 204
    },
    "executionInfo": {
     "elapsed": 8,
     "status": "ok",
     "timestamp": 1637217806568,
     "user": {
      "displayName": "성균관대학교이해인",
      "photoUrl": "https://lh3.googleusercontent.com/a/default-user=s64",
      "userId": "18353716469576030948"
     },
     "user_tz": -540
    },
    "id": "9_y22OxIA_e7",
    "outputId": "cc7399d7-77a0-40e0-faea-b1a2cda10058"
   },
   "outputs": [
    {
     "data": {
      "text/html": [
       "<div>\n",
       "<style scoped>\n",
       "    .dataframe tbody tr th:only-of-type {\n",
       "        vertical-align: middle;\n",
       "    }\n",
       "\n",
       "    .dataframe tbody tr th {\n",
       "        vertical-align: top;\n",
       "    }\n",
       "\n",
       "    .dataframe thead th {\n",
       "        text-align: right;\n",
       "    }\n",
       "</style>\n",
       "<table border=\"1\" class=\"dataframe\">\n",
       "  <thead>\n",
       "    <tr style=\"text-align: right;\">\n",
       "      <th></th>\n",
       "      <th>precision</th>\n",
       "      <th>recall</th>\n",
       "      <th>f1-score</th>\n",
       "      <th>support</th>\n",
       "    </tr>\n",
       "  </thead>\n",
       "  <tbody>\n",
       "    <tr>\n",
       "      <th>class low</th>\n",
       "      <td>0.686880</td>\n",
       "      <td>0.876971</td>\n",
       "      <td>0.770372</td>\n",
       "      <td>7104.000000</td>\n",
       "    </tr>\n",
       "    <tr>\n",
       "      <th>class high</th>\n",
       "      <td>0.829895</td>\n",
       "      <td>0.600225</td>\n",
       "      <td>0.696618</td>\n",
       "      <td>7104.000000</td>\n",
       "    </tr>\n",
       "    <tr>\n",
       "      <th>accuracy</th>\n",
       "      <td>0.738598</td>\n",
       "      <td>0.738598</td>\n",
       "      <td>0.738598</td>\n",
       "      <td>0.738598</td>\n",
       "    </tr>\n",
       "    <tr>\n",
       "      <th>macro avg</th>\n",
       "      <td>0.758387</td>\n",
       "      <td>0.738598</td>\n",
       "      <td>0.733495</td>\n",
       "      <td>14208.000000</td>\n",
       "    </tr>\n",
       "    <tr>\n",
       "      <th>weighted avg</th>\n",
       "      <td>0.758387</td>\n",
       "      <td>0.738598</td>\n",
       "      <td>0.733495</td>\n",
       "      <td>14208.000000</td>\n",
       "    </tr>\n",
       "  </tbody>\n",
       "</table>\n",
       "</div>"
      ],
      "text/plain": [
       "              precision    recall  f1-score       support\n",
       "class low      0.686880  0.876971  0.770372   7104.000000\n",
       "class high     0.829895  0.600225  0.696618   7104.000000\n",
       "accuracy       0.738598  0.738598  0.738598      0.738598\n",
       "macro avg      0.758387  0.738598  0.733495  14208.000000\n",
       "weighted avg   0.758387  0.738598  0.733495  14208.000000"
      ]
     },
     "execution_count": 42,
     "metadata": {},
     "output_type": "execute_result"
    }
   ],
   "source": [
    "from sklearn.metrics import classification_report\n",
    "\n",
    "report = classification_report(test_label, y_pred, target_names=['class low', 'class high'], output_dict=True)\n",
    "df = pd.DataFrame(report).transpose()\n",
    "\n",
    "df"
   ]
  },
  {
   "cell_type": "code",
   "execution_count": 43,
   "metadata": {
    "id": "sb7iCjRRBAxg"
   },
   "outputs": [
    {
     "data": {
      "text/plain": [
       "{'max_depth': 50,\n",
       " 'min_samples_leaf': 2,\n",
       " 'min_samples_split': 2,\n",
       " 'n_estimators': 600}"
      ]
     },
     "execution_count": 43,
     "metadata": {},
     "output_type": "execute_result"
    }
   ],
   "source": [
    "forest.best_params_"
   ]
  },
  {
   "cell_type": "code",
   "execution_count": null,
   "metadata": {},
   "outputs": [],
   "source": []
  },
  {
   "cell_type": "code",
   "execution_count": null,
   "metadata": {},
   "outputs": [],
   "source": []
  }
 ],
 "metadata": {
  "colab": {
   "collapsed_sections": [],
   "name": "Random Forest with glove.ipynb",
   "provenance": []
  },
  "kernelspec": {
   "display_name": "Python 3",
   "language": "python",
   "name": "python3"
  },
  "language_info": {
   "codemirror_mode": {
    "name": "ipython",
    "version": 3
   },
   "file_extension": ".py",
   "mimetype": "text/x-python",
   "name": "python",
   "nbconvert_exporter": "python",
   "pygments_lexer": "ipython3",
   "version": "3.8.8"
  }
 },
 "nbformat": 4,
 "nbformat_minor": 1
}
