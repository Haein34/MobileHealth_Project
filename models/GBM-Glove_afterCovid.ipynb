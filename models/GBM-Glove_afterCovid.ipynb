{
 "cells": [
  {
   "cell_type": "code",
   "execution_count": 1,
   "metadata": {
    "colab": {
     "base_uri": "https://localhost:8080/"
    },
    "executionInfo": {
     "elapsed": 3936,
     "status": "ok",
     "timestamp": 1636348360261,
     "user": {
      "displayName": "성균관대학교이선홍",
      "photoUrl": "https://lh3.googleusercontent.com/a/default-user=s64",
      "userId": "13996425026101792854"
     },
     "user_tz": -540
    },
    "id": "iUfyZcpGtJaY",
    "outputId": "12cef21e-51c4-4fbc-9dae-7507a36e5121"
   },
   "outputs": [
    {
     "name": "stdout",
     "output_type": "stream",
     "text": [
      "Requirement already satisfied: glove_python_binary in c:\\users\\dssal\\anaconda3\\lib\\site-packages (0.2.0)\n",
      "Requirement already satisfied: numpy in c:\\users\\dssal\\anaconda3\\lib\\site-packages (from glove_python_binary) (1.20.2)\n",
      "Requirement already satisfied: scipy in c:\\users\\dssal\\anaconda3\\lib\\site-packages (from glove_python_binary) (1.6.2)\n"
     ]
    },
    {
     "name": "stderr",
     "output_type": "stream",
     "text": [
      "WARNING: Ignoring invalid distribution -omotopy (c:\\users\\dssal\\anaconda3\\lib\\site-packages)\n",
      "WARNING: Ignoring invalid distribution -omotopy (c:\\users\\dssal\\anaconda3\\lib\\site-packages)\n",
      "WARNING: Ignoring invalid distribution -omotopy (c:\\users\\dssal\\anaconda3\\lib\\site-packages)\n",
      "WARNING: Ignoring invalid distribution -omotopy (c:\\users\\dssal\\anaconda3\\lib\\site-packages)\n",
      "WARNING: Ignoring invalid distribution -omotopy (c:\\users\\dssal\\anaconda3\\lib\\site-packages)\n",
      "WARNING: Ignoring invalid distribution -omotopy (c:\\users\\dssal\\anaconda3\\lib\\site-packages)\n"
     ]
    }
   ],
   "source": [
    "! pip install glove_python_binary"
   ]
  },
  {
   "cell_type": "code",
   "execution_count": 2,
   "metadata": {
    "executionInfo": {
     "elapsed": 744,
     "status": "ok",
     "timestamp": 1636348361002,
     "user": {
      "displayName": "성균관대학교이선홍",
      "photoUrl": "https://lh3.googleusercontent.com/a/default-user=s64",
      "userId": "13996425026101792854"
     },
     "user_tz": -540
    },
    "id": "McnfxpmhtO6E"
   },
   "outputs": [],
   "source": [
    "import pandas as pd\n",
    "import numpy as np\n",
    "import matplotlib.pyplot as plt\n",
    "import re\n",
    "import os\n",
    "import pickle\n",
    "import json\n",
    "import joblib\n",
    "\n",
    "\n",
    "from glove import Corpus, Glove\n",
    "from sklearn.model_selection import train_test_split\n",
    "from sklearn.ensemble import GradientBoostingClassifier\n",
    "from sklearn.metrics import accuracy_score\n",
    "from sklearn.model_selection import GridSearchCV\n",
    "from sklearn.metrics import accuracy_score\n",
    "from sklearn import metrics\n",
    "import seaborn as sns\n",
    "import matplotlib.pyplot as plt\n",
    "%matplotlib inline"
   ]
  },
  {
   "cell_type": "code",
   "execution_count": 3,
   "metadata": {
    "executionInfo": {
     "elapsed": 2208,
     "status": "ok",
     "timestamp": 1636348363208,
     "user": {
      "displayName": "성균관대학교이선홍",
      "photoUrl": "https://lh3.googleusercontent.com/a/default-user=s64",
      "userId": "13996425026101792854"
     },
     "user_tz": -540
    },
    "id": "tP6e1ppdtO7_"
   },
   "outputs": [],
   "source": [
    "df_train = pd.read_csv('C:/Users/DSSAL/Downloads/XGB_mobilehealth/revision_data/traindata_2020_afterCovid.csv')\n",
    "df_test = pd.read_csv('C:/Users/DSSAL/Downloads/XGB_mobilehealth/revision_data/testdata_2021_afterCovid.csv')"
   ]
  },
  {
   "cell_type": "code",
   "execution_count": 4,
   "metadata": {
    "executionInfo": {
     "elapsed": 20,
     "status": "ok",
     "timestamp": 1636348363210,
     "user": {
      "displayName": "성균관대학교이선홍",
      "photoUrl": "https://lh3.googleusercontent.com/a/default-user=s64",
      "userId": "13996425026101792854"
     },
     "user_tz": -540
    },
    "id": "jANAPmlHtO-I"
   },
   "outputs": [],
   "source": [
    "# train set\n",
    "reviews_train = list(df_train[\"clean_review\"])\n",
    "sentiments_train = list(df_train[\"sentiment\"])\n",
    "\n",
    "# test set\n",
    "reviews_test = list(df_test[\"clean_review\"])\n",
    "sentiments_test = list(df_test[\"sentiment\"])"
   ]
  },
  {
   "cell_type": "code",
   "execution_count": 5,
   "metadata": {
    "executionInfo": {
     "elapsed": 16,
     "status": "ok",
     "timestamp": 1636348363212,
     "user": {
      "displayName": "성균관대학교이선홍",
      "photoUrl": "https://lh3.googleusercontent.com/a/default-user=s64",
      "userId": "13996425026101792854"
     },
     "user_tz": -540
    },
    "id": "rdKt8KgwtPAQ"
   },
   "outputs": [],
   "source": [
    "def token_split(reviews):\n",
    "    token_li = reviews.split()\n",
    "    return token_li"
   ]
  },
  {
   "cell_type": "code",
   "execution_count": 6,
   "metadata": {
    "executionInfo": {
     "elapsed": 414,
     "status": "ok",
     "timestamp": 1636348363613,
     "user": {
      "displayName": "성균관대학교이선홍",
      "photoUrl": "https://lh3.googleusercontent.com/a/default-user=s64",
      "userId": "13996425026101792854"
     },
     "user_tz": -540
    },
    "id": "5V3rB0NgtPCT"
   },
   "outputs": [],
   "source": [
    "review_train_token_li = []\n",
    "review_test_token_li = []\n",
    "\n",
    "for i in reviews_train:\n",
    "    token_review = token_split(i)\n",
    "    review_train_token_li.append(token_review)\n",
    "\n",
    "for i in reviews_test:\n",
    "    token_review = token_split(i)\n",
    "    review_test_token_li.append(token_review)"
   ]
  },
  {
   "cell_type": "code",
   "execution_count": 7,
   "metadata": {
    "id": "mPir6K5PtPEd"
   },
   "outputs": [],
   "source": [
    "corpus = Corpus()\n",
    "corpus.fit(review_train_token_li, window=10)"
   ]
  },
  {
   "cell_type": "code",
   "execution_count": 8,
   "metadata": {
    "colab": {
     "base_uri": "https://localhost:8080/"
    },
    "executionInfo": {
     "elapsed": 274823,
     "status": "ok",
     "timestamp": 1632464251312,
     "user": {
      "displayName": "성균관대학교이선홍",
      "photoUrl": "https://lh3.googleusercontent.com/a/default-user=s64",
      "userId": "13996425026101792854"
     },
     "user_tz": -540
    },
    "id": "qzO1ltt6tPGO",
    "outputId": "471041eb-735b-4447-8c8c-7c4408d20e6c"
   },
   "outputs": [
    {
     "name": "stdout",
     "output_type": "stream",
     "text": [
      "Performing 50 training epochs with 4 threads\n",
      "Epoch 0\n",
      "Epoch 1\n",
      "Epoch 2\n",
      "Epoch 3\n",
      "Epoch 4\n",
      "Epoch 5\n",
      "Epoch 6\n",
      "Epoch 7\n",
      "Epoch 8\n",
      "Epoch 9\n",
      "Epoch 10\n",
      "Epoch 11\n",
      "Epoch 12\n",
      "Epoch 13\n",
      "Epoch 14\n",
      "Epoch 15\n",
      "Epoch 16\n",
      "Epoch 17\n",
      "Epoch 18\n",
      "Epoch 19\n",
      "Epoch 20\n",
      "Epoch 21\n",
      "Epoch 22\n",
      "Epoch 23\n",
      "Epoch 24\n",
      "Epoch 25\n",
      "Epoch 26\n",
      "Epoch 27\n",
      "Epoch 28\n",
      "Epoch 29\n",
      "Epoch 30\n",
      "Epoch 31\n",
      "Epoch 32\n",
      "Epoch 33\n",
      "Epoch 34\n",
      "Epoch 35\n",
      "Epoch 36\n",
      "Epoch 37\n",
      "Epoch 38\n",
      "Epoch 39\n",
      "Epoch 40\n",
      "Epoch 41\n",
      "Epoch 42\n",
      "Epoch 43\n",
      "Epoch 44\n",
      "Epoch 45\n",
      "Epoch 46\n",
      "Epoch 47\n",
      "Epoch 48\n",
      "Epoch 49\n",
      "Wall time: 8.38 s\n"
     ]
    }
   ],
   "source": [
    "glove = Glove(no_components=128, learning_rate=0.01)\n",
    "%time glove.fit(corpus.matrix, epochs=50, no_threads=4, verbose=True)\n",
    "glove.add_dictionary(corpus.dictionary)\n",
    "\n",
    "glove.save(\"C:/Users/DSSAL/Downloads/GBM_mobilehealth/\" + \"/glove_w10_epoch50_GBM.model\")"
   ]
  },
  {
   "cell_type": "code",
   "execution_count": 9,
   "metadata": {
    "executionInfo": {
     "elapsed": 3004,
     "status": "ok",
     "timestamp": 1636348366614,
     "user": {
      "displayName": "성균관대학교이선홍",
      "photoUrl": "https://lh3.googleusercontent.com/a/default-user=s64",
      "userId": "13996425026101792854"
     },
     "user_tz": -540
    },
    "id": "QuioNU0Luxal"
   },
   "outputs": [],
   "source": [
    "glove_model = Glove.load(\"C:/Users/DSSAL/Downloads/GBM_mobilehealth\" + \"/glove_w10_epoch50_GBM.model\")"
   ]
  },
  {
   "cell_type": "code",
   "execution_count": 10,
   "metadata": {
    "executionInfo": {
     "elapsed": 2274,
     "status": "ok",
     "timestamp": 1636348368882,
     "user": {
      "displayName": "성균관대학교이선홍",
      "photoUrl": "https://lh3.googleusercontent.com/a/default-user=s64",
      "userId": "13996425026101792854"
     },
     "user_tz": -540
    },
    "id": "TN4Mc0qktnAA"
   },
   "outputs": [],
   "source": [
    "word_dict = {}\n",
    "for word in glove_model.dictionary.keys():\n",
    "    word_dict[word] = glove_model.word_vectors[glove_model.dictionary[word]]\n",
    "\n",
    "with open(\"C:/Users/DSSAL/Downloads/GBM_mobilehealth\" + \"/glove_word_dic.pkl\",\"wb\") as f:\n",
    "    pickle.dump(word_dict, f)"
   ]
  },
  {
   "cell_type": "code",
   "execution_count": 11,
   "metadata": {
    "colab": {
     "base_uri": "https://localhost:8080/"
    },
    "executionInfo": {
     "elapsed": 14,
     "status": "ok",
     "timestamp": 1636348368883,
     "user": {
      "displayName": "성균관대학교이선홍",
      "photoUrl": "https://lh3.googleusercontent.com/a/default-user=s64",
      "userId": "13996425026101792854"
     },
     "user_tz": -540
    },
    "id": "GAx_VORrtnCN",
    "outputId": "52fe8645-af42-431a-d38a-d53341670b70"
   },
   "outputs": [
    {
     "name": "stdout",
     "output_type": "stream",
     "text": [
      "16492\n"
     ]
    }
   ],
   "source": [
    "total_word_dict = {} # 교집합\n",
    "count = 0\n",
    "\n",
    "for review_token in review_test_token_li: \n",
    "    for word in review_token:\n",
    "        if word in word_dict.keys():\n",
    "            total_word_dict[word] = word_dict[word]\n",
    "\n",
    "    else:\n",
    "        word_dict[word] = np.zeros((128))\n",
    "        count += 1\n",
    "\n",
    "print(count)"
   ]
  },
  {
   "cell_type": "code",
   "execution_count": 12,
   "metadata": {
    "executionInfo": {
     "elapsed": 10,
     "status": "ok",
     "timestamp": 1636348368883,
     "user": {
      "displayName": "성균관대학교이선홍",
      "photoUrl": "https://lh3.googleusercontent.com/a/default-user=s64",
      "userId": "13996425026101792854"
     },
     "user_tz": -540
    },
    "id": "Qg-qG-7Qu8-t"
   },
   "outputs": [],
   "source": [
    "def glove_sentence_embedding(token_li, embedding_dim=128):\n",
    "    token_len = len(token_li)\n",
    "    sentence_matrix = np.zeros((token_len, embedding_dim))\n",
    "\n",
    "    for i, token in enumerate(token_li):\n",
    "        sentence_vector = np.array([word_dict[j] for j in token if j in word_dict])\n",
    "        sentence_vector = np.mean(sentence_vector, axis=0)\n",
    "        sentence_matrix[i] = sentence_vector\n",
    "\n",
    "    return sentence_matrix"
   ]
  },
  {
   "cell_type": "code",
   "execution_count": 13,
   "metadata": {
    "colab": {
     "base_uri": "https://localhost:8080/"
    },
    "executionInfo": {
     "elapsed": 10,
     "status": "ok",
     "timestamp": 1636348368884,
     "user": {
      "displayName": "성균관대학교이선홍",
      "photoUrl": "https://lh3.googleusercontent.com/a/default-user=s64",
      "userId": "13996425026101792854"
     },
     "user_tz": -540
    },
    "id": "4OQkFRQxtnEg",
    "outputId": "3752dbf6-36b1-4707-cb63-73a5489380db"
   },
   "outputs": [
    {
     "name": "stdout",
     "output_type": "stream",
     "text": [
      "19462\n",
      "16492\n"
     ]
    }
   ],
   "source": [
    "print(len(review_train_token_li))\n",
    "print(len(review_test_token_li))"
   ]
  },
  {
   "cell_type": "code",
   "execution_count": 14,
   "metadata": {
    "colab": {
     "base_uri": "https://localhost:8080/"
    },
    "executionInfo": {
     "elapsed": 3322,
     "status": "ok",
     "timestamp": 1636348372198,
     "user": {
      "displayName": "성균관대학교이선홍",
      "photoUrl": "https://lh3.googleusercontent.com/a/default-user=s64",
      "userId": "13996425026101792854"
     },
     "user_tz": -540
    },
    "id": "XoBBu5_7trhH",
    "outputId": "28ab978c-3f02-43fa-9867-6e0e4c7766d1"
   },
   "outputs": [
    {
     "name": "stdout",
     "output_type": "stream",
     "text": [
      "19462\n",
      "16492\n"
     ]
    }
   ],
   "source": [
    "train_sentence_glove = glove_sentence_embedding(review_train_token_li)\n",
    "test_sentence_glove = glove_sentence_embedding(review_test_token_li)\n",
    "\n",
    "print(len(train_sentence_glove))\n",
    "print(len(test_sentence_glove))"
   ]
  },
  {
   "cell_type": "code",
   "execution_count": 15,
   "metadata": {
    "executionInfo": {
     "elapsed": 9,
     "status": "ok",
     "timestamp": 1636348372199,
     "user": {
      "displayName": "성균관대학교이선홍",
      "photoUrl": "https://lh3.googleusercontent.com/a/default-user=s64",
      "userId": "13996425026101792854"
     },
     "user_tz": -540
    },
    "id": "rHpTqJQ8trjD"
   },
   "outputs": [],
   "source": [
    "X_train = train_sentence_glove\n",
    "y_train = np.array(sentiments_train)\n",
    "\n",
    "X_test = test_sentence_glove\n",
    "y_test = np.array(sentiments_test)"
   ]
  },
  {
   "cell_type": "code",
   "execution_count": 16,
   "metadata": {
    "colab": {
     "base_uri": "https://localhost:8080/",
     "height": 412
    },
    "executionInfo": {
     "elapsed": 22728,
     "status": "error",
     "timestamp": 1636348394920,
     "user": {
      "displayName": "성균관대학교이선홍",
      "photoUrl": "https://lh3.googleusercontent.com/a/default-user=s64",
      "userId": "13996425026101792854"
     },
     "user_tz": -540
    },
    "id": "TBVYHz-YtrlJ",
    "outputId": "92efd894-25c0-46ca-935a-a3ce28bfbfe8"
   },
   "outputs": [
    {
     "name": "stdout",
     "output_type": "stream",
     "text": [
      "Fitting 5 folds for each of 27 candidates, totalling 135 fits\n"
     ]
    }
   ],
   "source": [
    "from sklearn.model_selection import GridSearchCV\n",
    "\n",
    "gbm = GradientBoostingClassifier(random_state=82, n_estimators=100, learning_rate=0.1, max_depth=4)\n",
    "# gbm.fit(X_train, y_train)\n",
    "\n",
    "params = {'n_estimators' : [200, 600, 1000], 'learning_rate' : [0.05, 0.1, 0.2], 'max_depth' : [4, 6, 8]}\n",
    "gbm = GridSearchCV(gbm, param_grid=params, cv=5, verbose=3,n_jobs=-1)\n",
    "gbm.fit(X_train, y_train)\n",
    "\n",
    "gbm_predict = gbm.predict(X_test)"
   ]
  },
  {
   "cell_type": "code",
   "execution_count": 17,
   "metadata": {
    "executionInfo": {
     "elapsed": 1504,
     "status": "ok",
     "timestamp": 1636348405097,
     "user": {
      "displayName": "성균관대학교이선홍",
      "photoUrl": "https://lh3.googleusercontent.com/a/default-user=s64",
      "userId": "13996425026101792854"
     },
     "user_tz": -540
    },
    "id": "sGSizaDDihuT"
   },
   "outputs": [
    {
     "data": {
      "text/plain": [
       "['C:/Users/DSSAL/Downloads/GBM_mobilehealth/gbm_glove_with_gridsearch_afterCovid.pkl']"
      ]
     },
     "execution_count": 17,
     "metadata": {},
     "output_type": "execute_result"
    }
   ],
   "source": [
    "joblib.dump(gbm, 'C:/Users/DSSAL/Downloads/GBM_mobilehealth/gbm_glove_with_gridsearch_afterCovid.pkl')"
   ]
  },
  {
   "cell_type": "code",
   "execution_count": 18,
   "metadata": {
    "colab": {
     "base_uri": "https://localhost:8080/"
    },
    "executionInfo": {
     "elapsed": 3,
     "status": "ok",
     "timestamp": 1636348415322,
     "user": {
      "displayName": "성균관대학교이선홍",
      "photoUrl": "https://lh3.googleusercontent.com/a/default-user=s64",
      "userId": "13996425026101792854"
     },
     "user_tz": -540
    },
    "id": "AY_8QCN5tnGk",
    "outputId": "3bd9e2ea-c3f0-4803-9550-5a63f8d154c7"
   },
   "outputs": [
    {
     "name": "stdout",
     "output_type": "stream",
     "text": [
      "Accuracy: 0.697065\n"
     ]
    }
   ],
   "source": [
    "print(\"Accuracy: %f\" % accuracy_score(y_test, gbm_predict))"
   ]
  },
  {
   "cell_type": "code",
   "execution_count": 19,
   "metadata": {
    "executionInfo": {
     "elapsed": 1,
     "status": "ok",
     "timestamp": 1636348415653,
     "user": {
      "displayName": "성균관대학교이선홍",
      "photoUrl": "https://lh3.googleusercontent.com/a/default-user=s64",
      "userId": "13996425026101792854"
     },
     "user_tz": -540
    },
    "id": "P_JyganTtCBn"
   },
   "outputs": [],
   "source": [
    "# import joblib\n",
    "# joblib.dump(gbm_glove, '/content/drive/Shareddrives/mobile health care /data_out/GBM_model/GBM_glove_1000_tfidf.pkl')"
   ]
  },
  {
   "cell_type": "code",
   "execution_count": 20,
   "metadata": {
    "colab": {
     "base_uri": "https://localhost:8080/",
     "height": 343
    },
    "executionInfo": {
     "elapsed": 510,
     "status": "ok",
     "timestamp": 1636348416497,
     "user": {
      "displayName": "성균관대학교이선홍",
      "photoUrl": "https://lh3.googleusercontent.com/a/default-user=s64",
      "userId": "13996425026101792854"
     },
     "user_tz": -540
    },
    "id": "LtzjRJ7Nd2h3",
    "outputId": "96b3e179-3658-450d-8671-cf0ae5f94210"
   },
   "outputs": [
    {
     "data": {
      "text/plain": [
       "Text(0.5, 257.44, 'Predicted label')"
      ]
     },
     "execution_count": 20,
     "metadata": {},
     "output_type": "execute_result"
    },
    {
     "data": {
      "image/png": "[encoded data removed]",
      "text/plain": [
       "<Figure size 432x288 with 2 Axes>"
      ]
     },
     "metadata": {
      "needs_background": "light"
     },
     "output_type": "display_data"
    }
   ],
   "source": [
    "cnf_matrix = metrics.confusion_matrix(y_test, gbm_predict)\n",
    "\n",
    "class_names=[0,1] # name  of classes\n",
    "fig, ax = plt.subplots()\n",
    "tick_marks = np.arange(len(class_names))\n",
    "plt.xticks(tick_marks, class_names)\n",
    "plt.yticks(tick_marks, class_names)\n",
    "# create heatmap\n",
    "sns.heatmap(pd.DataFrame(cnf_matrix), annot=True, cmap=\"YlGnBu\" ,fmt='g')\n",
    "ax.xaxis.set_label_position(\"top\")\n",
    "plt.tight_layout()\n",
    "plt.title('Confusion matrix', y=1.1)\n",
    "plt.ylabel('Actual label')\n",
    "plt.xlabel('Predicted label')"
   ]
  },
  {
   "cell_type": "code",
   "execution_count": 21,
   "metadata": {
    "colab": {
     "base_uri": "https://localhost:8080/"
    },
    "executionInfo": {
     "elapsed": 4,
     "status": "ok",
     "timestamp": 1636348416822,
     "user": {
      "displayName": "성균관대학교이선홍",
      "photoUrl": "https://lh3.googleusercontent.com/a/default-user=s64",
      "userId": "13996425026101792854"
     },
     "user_tz": -540
    },
    "id": "Wuzj6waFjEuS",
    "outputId": "8b2f44c2-8f45-4d35-f14f-07a3a7b09d48"
   },
   "outputs": [
    {
     "name": "stdout",
     "output_type": "stream",
     "text": [
      "Accuracy: 0.6970652437545477\n",
      "Precision: 0.6618848376170552\n",
      "Recall: 0.8057239873878244\n"
     ]
    }
   ],
   "source": [
    "print(\"Accuracy:\",metrics.accuracy_score(y_test, gbm_predict))\n",
    "print(\"Precision:\",metrics.precision_score(y_test, gbm_predict))\n",
    "print(\"Recall:\",metrics.recall_score(y_test, gbm_predict))"
   ]
  },
  {
   "cell_type": "code",
   "execution_count": 22,
   "metadata": {
    "colab": {
     "base_uri": "https://localhost:8080/"
    },
    "executionInfo": {
     "elapsed": 2,
     "status": "ok",
     "timestamp": 1636348418176,
     "user": {
      "displayName": "성균관대학교이선홍",
      "photoUrl": "https://lh3.googleusercontent.com/a/default-user=s64",
      "userId": "13996425026101792854"
     },
     "user_tz": -540
    },
    "id": "qRC1ebjKjImg",
    "outputId": "fc88da28-37ae-4001-8a7b-48b7e00530f5"
   },
   "outputs": [
    {
     "name": "stdout",
     "output_type": "stream",
     "text": [
      "              precision    recall  f1-score   support\n",
      "\n",
      "   class low       0.75      0.59      0.66      8246\n",
      "  class high       0.66      0.81      0.73      8246\n",
      "\n",
      "    accuracy                           0.70     16492\n",
      "   macro avg       0.71      0.70      0.69     16492\n",
      "weighted avg       0.71      0.70      0.69     16492\n",
      "\n"
     ]
    }
   ],
   "source": [
    "from sklearn.metrics import classification_report\n",
    "\n",
    "print(classification_report(y_test, gbm_predict, target_names=['class low', 'class high']))"
   ]
  },
  {
   "cell_type": "code",
   "execution_count": 23,
   "metadata": {
    "colab": {
     "base_uri": "https://localhost:8080/",
     "height": 204
    },
    "executionInfo": {
     "elapsed": 350,
     "status": "ok",
     "timestamp": 1636348418819,
     "user": {
      "displayName": "성균관대학교이선홍",
      "photoUrl": "https://lh3.googleusercontent.com/a/default-user=s64",
      "userId": "13996425026101792854"
     },
     "user_tz": -540
    },
    "id": "wTyvxYLEeKp3",
    "outputId": "4652ac48-92ee-49cc-ff38-12a021475c3b"
   },
   "outputs": [
    {
     "data": {
      "text/html": [
       "<div>\n",
       "<style scoped>\n",
       "    .dataframe tbody tr th:only-of-type {\n",
       "        vertical-align: middle;\n",
       "    }\n",
       "\n",
       "    .dataframe tbody tr th {\n",
       "        vertical-align: top;\n",
       "    }\n",
       "\n",
       "    .dataframe thead th {\n",
       "        text-align: right;\n",
       "    }\n",
       "</style>\n",
       "<table border=\"1\" class=\"dataframe\">\n",
       "  <thead>\n",
       "    <tr style=\"text-align: right;\">\n",
       "      <th></th>\n",
       "      <th>precision</th>\n",
       "      <th>recall</th>\n",
       "      <th>f1-score</th>\n",
       "      <th>support</th>\n",
       "    </tr>\n",
       "  </thead>\n",
       "  <tbody>\n",
       "    <tr>\n",
       "      <th>class low</th>\n",
       "      <td>0.751782</td>\n",
       "      <td>0.588407</td>\n",
       "      <td>0.660136</td>\n",
       "      <td>8246.000000</td>\n",
       "    </tr>\n",
       "    <tr>\n",
       "      <th>class high</th>\n",
       "      <td>0.661885</td>\n",
       "      <td>0.805724</td>\n",
       "      <td>0.726756</td>\n",
       "      <td>8246.000000</td>\n",
       "    </tr>\n",
       "    <tr>\n",
       "      <th>accuracy</th>\n",
       "      <td>0.697065</td>\n",
       "      <td>0.697065</td>\n",
       "      <td>0.697065</td>\n",
       "      <td>0.697065</td>\n",
       "    </tr>\n",
       "    <tr>\n",
       "      <th>macro avg</th>\n",
       "      <td>0.706833</td>\n",
       "      <td>0.697065</td>\n",
       "      <td>0.693446</td>\n",
       "      <td>16492.000000</td>\n",
       "    </tr>\n",
       "    <tr>\n",
       "      <th>weighted avg</th>\n",
       "      <td>0.706833</td>\n",
       "      <td>0.697065</td>\n",
       "      <td>0.693446</td>\n",
       "      <td>16492.000000</td>\n",
       "    </tr>\n",
       "  </tbody>\n",
       "</table>\n",
       "</div>"
      ],
      "text/plain": [
       "              precision    recall  f1-score       support\n",
       "class low      0.751782  0.588407  0.660136   8246.000000\n",
       "class high     0.661885  0.805724  0.726756   8246.000000\n",
       "accuracy       0.697065  0.697065  0.697065      0.697065\n",
       "macro avg      0.706833  0.697065  0.693446  16492.000000\n",
       "weighted avg   0.706833  0.697065  0.693446  16492.000000"
      ]
     },
     "execution_count": 23,
     "metadata": {},
     "output_type": "execute_result"
    }
   ],
   "source": [
    "report = classification_report(y_test, gbm_predict, target_names=['class low', 'class high'], output_dict=True)\n",
    "df = pd.DataFrame(report).transpose()\n",
    "\n",
    "df"
   ]
  },
  {
   "cell_type": "code",
   "execution_count": 24,
   "metadata": {
    "id": "KSiNzB639sea"
   },
   "outputs": [
    {
     "data": {
      "text/plain": [
       "{'learning_rate': 0.05, 'max_depth': 4, 'n_estimators': 200}"
      ]
     },
     "execution_count": 24,
     "metadata": {},
     "output_type": "execute_result"
    }
   ],
   "source": [
    "gbm.best_params_"
   ]
  },
  {
   "cell_type": "code",
   "execution_count": null,
   "metadata": {},
   "outputs": [],
   "source": []
  }
 ],
 "metadata": {
  "colab": {
   "authorship_tag": "ABX9TyMp/MAmSv6Hci48RB+5joAt",
   "collapsed_sections": [],
   "mount_file_id": "11-5J9BHHLxW9m3IhWDAVzdZ18V0qhuCU",
   "name": "GBM-Glove.ipynb",
   "provenance": []
  },
  "kernelspec": {
   "display_name": "Python 3",
   "language": "python",
   "name": "python3"
  },
  "language_info": {
   "codemirror_mode": {
    "name": "ipython",
    "version": 3
   },
   "file_extension": ".py",
   "mimetype": "text/x-python",
   "name": "python",
   "nbconvert_exporter": "python",
   "pygments_lexer": "ipython3",
   "version": "3.7.7"
  }
 },
 "nbformat": 4,
 "nbformat_minor": 1
}
