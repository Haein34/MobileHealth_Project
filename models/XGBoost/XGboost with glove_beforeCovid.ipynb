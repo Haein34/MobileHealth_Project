{
 "cells": [
  {
   "cell_type": "code",
   "execution_count": 1,
   "metadata": {
    "colab": {
     "base_uri": "https://localhost:8080/"
    },
    "executionInfo": {
     "elapsed": 3339,
     "status": "ok",
     "timestamp": 1636348268881,
     "user": {
      "displayName": "성균관대학교이해인",
      "photoUrl": "https://lh3.googleusercontent.com/a/default-user=s64",
      "userId": "18353716469576030948"
     },
     "user_tz": -540
    },
    "id": "LtkfSqgXnx6d",
    "outputId": "af66e6cb-2532-4f30-d3f4-24d10f7ee5ba"
   },
   "outputs": [
    {
     "name": "stdout",
     "output_type": "stream",
     "text": [
      "Collecting glove-python-binary\n",
      "  Downloading glove_python_binary-0.2.0-cp37-cp37m-win_amd64.whl (225 kB)\n",
      "Requirement already satisfied: numpy in c:\\users\\dssal\\anaconda3\\lib\\site-packages (from glove-python-binary) (1.20.2)\n",
      "Requirement already satisfied: scipy in c:\\users\\dssal\\anaconda3\\lib\\site-packages (from glove-python-binary) (1.6.2)\n",
      "Installing collected packages: glove-python-binary\n",
      "Successfully installed glove-python-binary-0.2.0\n"
     ]
    },
    {
     "name": "stderr",
     "output_type": "stream",
     "text": [
      "WARNING: Ignoring invalid distribution -omotopy (c:\\users\\dssal\\anaconda3\\lib\\site-packages)\n",
      "WARNING: Ignoring invalid distribution -omotopy (c:\\users\\dssal\\anaconda3\\lib\\site-packages)\n",
      "WARNING: Ignoring invalid distribution -omotopy (c:\\users\\dssal\\anaconda3\\lib\\site-packages)\n",
      "WARNING: Ignoring invalid distribution -omotopy (c:\\users\\dssal\\anaconda3\\lib\\site-packages)\n",
      "WARNING: Ignoring invalid distribution -omotopy (c:\\users\\dssal\\anaconda3\\lib\\site-packages)\n",
      "WARNING: Ignoring invalid distribution -omotopy (c:\\users\\dssal\\anaconda3\\lib\\site-packages)\n",
      "WARNING: Ignoring invalid distribution -omotopy (c:\\users\\dssal\\anaconda3\\lib\\site-packages)\n"
     ]
    }
   ],
   "source": [
    "! pip install glove-python-binary"
   ]
  },
  {
   "cell_type": "code",
   "execution_count": 1,
   "metadata": {
    "executionInfo": {
     "elapsed": 571,
     "status": "ok",
     "timestamp": 1636348269430,
     "user": {
      "displayName": "성균관대학교이해인",
      "photoUrl": "https://lh3.googleusercontent.com/a/default-user=s64",
      "userId": "18353716469576030948"
     },
     "user_tz": -540
    },
    "id": "8fUd5rczmc72"
   },
   "outputs": [],
   "source": [
    "import os\n",
    "\n",
    "import pandas as pd\n",
    "import numpy as np\n",
    "import json\n",
    "\n",
    "from nltk.corpus import stopwords\n",
    "from nltk.tokenize import word_tokenize\n",
    "from glove import Corpus, Glove\n",
    "import xgboost as xgb\n",
    "from xgboost import XGBClassifier\n",
    "from xgboost import plot_importance\n",
    "\n",
    "from sklearn.feature_extraction.text import TfidfVectorizer\n",
    "\n",
    "from sklearn.metrics import accuracy_score\n",
    "from sklearn import metrics\n",
    "import seaborn as sns\n",
    "import matplotlib.pyplot as plt\n",
    "%matplotlib inline"
   ]
  },
  {
   "cell_type": "code",
   "execution_count": 2,
   "metadata": {
    "executionInfo": {
     "elapsed": 5,
     "status": "ok",
     "timestamp": 1636348269432,
     "user": {
      "displayName": "성균관대학교이해인",
      "photoUrl": "https://lh3.googleusercontent.com/a/default-user=s64",
      "userId": "18353716469576030948"
     },
     "user_tz": -540
    },
    "id": "vzlGYargmc8B"
   },
   "outputs": [],
   "source": [
    "train_data = pd.read_csv('C:/Users/DSSAL/Downloads/XGB_mobilehealth/revision_data/traindata_2015_2018_beforeCovid.csv')"
   ]
  },
  {
   "cell_type": "code",
   "execution_count": 3,
   "metadata": {
    "executionInfo": {
     "elapsed": 6,
     "status": "ok",
     "timestamp": 1636348269433,
     "user": {
      "displayName": "성균관대학교이해인",
      "photoUrl": "https://lh3.googleusercontent.com/a/default-user=s64",
      "userId": "18353716469576030948"
     },
     "user_tz": -540
    },
    "id": "ovIwzqY4mc8C"
   },
   "outputs": [],
   "source": [
    "train_data = train_data.dropna()"
   ]
  },
  {
   "cell_type": "code",
   "execution_count": 4,
   "metadata": {
    "executionInfo": {
     "elapsed": 7,
     "status": "ok",
     "timestamp": 1636348269434,
     "user": {
      "displayName": "성균관대학교이해인",
      "photoUrl": "https://lh3.googleusercontent.com/a/default-user=s64",
      "userId": "18353716469576030948"
     },
     "user_tz": -540
    },
    "id": "xXcrrjzfmc8D"
   },
   "outputs": [],
   "source": [
    "reviews = list(train_data['clean_review'])\n",
    "sentiments = list(train_data['sentiment'])"
   ]
  },
  {
   "cell_type": "code",
   "execution_count": 5,
   "metadata": {
    "executionInfo": {
     "elapsed": 449,
     "status": "ok",
     "timestamp": 1636348269877,
     "user": {
      "displayName": "성균관대학교이해인",
      "photoUrl": "https://lh3.googleusercontent.com/a/default-user=s64",
      "userId": "18353716469576030948"
     },
     "user_tz": -540
    },
    "id": "VywN8YO0mc8E"
   },
   "outputs": [],
   "source": [
    "token = []\n",
    "for review in reviews:\n",
    "    token.append(review.split())"
   ]
  },
  {
   "cell_type": "code",
   "execution_count": 6,
   "metadata": {
    "executionInfo": {
     "elapsed": 5325,
     "status": "ok",
     "timestamp": 1636348275195,
     "user": {
      "displayName": "성균관대학교이해인",
      "photoUrl": "https://lh3.googleusercontent.com/a/default-user=s64",
      "userId": "18353716469576030948"
     },
     "user_tz": -540
    },
    "id": "AUes_79bmrtH"
   },
   "outputs": [],
   "source": [
    "#Glove Corpus 생성\n",
    "corpus = Corpus()\n",
    "corpus.fit(token, window=20)"
   ]
  },
  {
   "cell_type": "code",
   "execution_count": 7,
   "metadata": {
    "colab": {
     "base_uri": "https://localhost:8080/"
    },
    "executionInfo": {
     "elapsed": 462940,
     "status": "ok",
     "timestamp": 1636348738120,
     "user": {
      "displayName": "성균관대학교이해인",
      "photoUrl": "https://lh3.googleusercontent.com/a/default-user=s64",
      "userId": "18353716469576030948"
     },
     "user_tz": -540
    },
    "id": "ZOJfXJFFmc8F",
    "outputId": "29430095-6759-4000-cb97-e5544fe1b7ba"
   },
   "outputs": [
    {
     "name": "stdout",
     "output_type": "stream",
     "text": [
      "Wall time: 25.3 s\n"
     ]
    }
   ],
   "source": [
    "# model\n",
    "glove = Glove(no_components=128, learning_rate=0.01, random_state=82)     \n",
    "%time glove.fit(corpus.matrix, epochs=50, no_threads=4, verbose=False)    \n",
    "glove.add_dictionary(corpus.dictionary)\n",
    "\n",
    "# save\n",
    "glove.save('C:/Users/DSSAL/Downloads/XGB_mobilehealth' + '/glove_w20_epoch50.model')"
   ]
  },
  {
   "cell_type": "code",
   "execution_count": 8,
   "metadata": {
    "colab": {
     "base_uri": "https://localhost:8080/"
    },
    "executionInfo": {
     "elapsed": 603,
     "status": "ok",
     "timestamp": 1636348738715,
     "user": {
      "displayName": "성균관대학교이해인",
      "photoUrl": "https://lh3.googleusercontent.com/a/default-user=s64",
      "userId": "18353716469576030948"
     },
     "user_tz": -540
    },
    "id": "yBkqencImt9z",
    "outputId": "5c17ab5f-dc4e-4fd6-dd4a-f767e4b91afe"
   },
   "outputs": [
    {
     "name": "stdout",
     "output_type": "stream",
     "text": [
      "[Success !] Lengh of word dict... :  8863\n"
     ]
    }
   ],
   "source": [
    "# load glove\n",
    "glove_model = Glove.load('C:/Users/DSSAL/Downloads/XGB_mobilehealth' + '/glove_w20_epoch50.model')\n",
    "\n",
    "# word dict 생성\n",
    "word_dict = {}\n",
    "for word in  glove_model.dictionary.keys():\n",
    "    word_dict[word] = glove_model.word_vectors[glove_model.dictionary[word]]\n",
    "print('[Success !] Lengh of word dict... : ', len(word_dict))"
   ]
  },
  {
   "cell_type": "code",
   "execution_count": 9,
   "metadata": {
    "colab": {
     "base_uri": "https://localhost:8080/"
    },
    "executionInfo": {
     "elapsed": 1182,
     "status": "ok",
     "timestamp": 1636348739885,
     "user": {
      "displayName": "성균관대학교이해인",
      "photoUrl": "https://lh3.googleusercontent.com/a/default-user=s64",
      "userId": "18353716469576030948"
     },
     "user_tz": -540
    },
    "id": "eRg-2azSmvVy",
    "outputId": "dc8568da-489f-48d3-bee9-027c145f0d3d"
   },
   "outputs": [
    {
     "name": "stdout",
     "output_type": "stream",
     "text": [
      "[Success !] Save word dict!...\n"
     ]
    }
   ],
   "source": [
    "# save word_dict\n",
    "import pickle\n",
    "with open('C:/Users/DSSAL/Downloads/XGB_mobilehealth'+ '/glove_word_dict_128.pickle', 'wb') as f:\n",
    "    pickle.dump(word_dict, f)\n",
    "print('[Success !] Save word dict!...')"
   ]
  },
  {
   "cell_type": "code",
   "execution_count": 10,
   "metadata": {
    "executionInfo": {
     "elapsed": 17,
     "status": "ok",
     "timestamp": 1636348739886,
     "user": {
      "displayName": "성균관대학교이해인",
      "photoUrl": "https://lh3.googleusercontent.com/a/default-user=s64",
      "userId": "18353716469576030948"
     },
     "user_tz": -540
    },
    "id": "UelW9II2mwvK"
   },
   "outputs": [],
   "source": [
    "#검증데이터셋 성능 평가\n",
    "test_data = pd.read_csv('C:/Users/DSSAL/Downloads/XGB_mobilehealth/revision_data/testdata_2019_beforeCovid.csv')\n",
    "test_data = test_data.dropna()\n",
    "\n",
    "test_reviews = list(test_data['clean_review'])"
   ]
  },
  {
   "cell_type": "code",
   "execution_count": 11,
   "metadata": {
    "executionInfo": {
     "elapsed": 17,
     "status": "ok",
     "timestamp": 1636348739886,
     "user": {
      "displayName": "성균관대학교이해인",
      "photoUrl": "https://lh3.googleusercontent.com/a/default-user=s64",
      "userId": "18353716469576030948"
     },
     "user_tz": -540
    },
    "id": "9JIWWpH9mzHH"
   },
   "outputs": [],
   "source": [
    "test_tokens = []\n",
    "for review in test_reviews:\n",
    "    test_tokens.append(review.split())"
   ]
  },
  {
   "cell_type": "code",
   "execution_count": 12,
   "metadata": {
    "colab": {
     "base_uri": "https://localhost:8080/"
    },
    "executionInfo": {
     "elapsed": 17,
     "status": "ok",
     "timestamp": 1636348739887,
     "user": {
      "displayName": "성균관대학교이해인",
      "photoUrl": "https://lh3.googleusercontent.com/a/default-user=s64",
      "userId": "18353716469576030948"
     },
     "user_tz": -540
    },
    "id": "eIdmm4wPmz47",
    "outputId": "71435d53-ae35-47e5-9dac-c6f70eb56165"
   },
   "outputs": [
    {
     "name": "stdout",
     "output_type": "stream",
     "text": [
      "no train word -> 0.... 2039\n",
      "token -> word embedding....! 4101\n"
     ]
    }
   ],
   "source": [
    "# test data 워드 임베딩 // ...?왜한걸까..?\n",
    "# word dict : train데이터의 임베딩 사전\n",
    "total_word_dict = {}\n",
    "cnt = 0\n",
    "\n",
    "for word in test_tokens:\n",
    "    for i in range(len(word)):\n",
    "        if word[i] in word_dict.keys():\n",
    "            total_word_dict[word[i]] = word_dict[word[i]]\n",
    "        else:\n",
    "            word_dict[word[i]] = np.zeros((128))\n",
    "            cnt += 1  # 처음 본 단어 갯수 세기\n",
    "\n",
    "print('no train word -> 0....', cnt)\n",
    "print('token -> word embedding....!',len(total_word_dict))"
   ]
  },
  {
   "cell_type": "code",
   "execution_count": 13,
   "metadata": {
    "executionInfo": {
     "elapsed": 16,
     "status": "ok",
     "timestamp": 1636348740345,
     "user": {
      "displayName": "성균관대학교이해인",
      "photoUrl": "https://lh3.googleusercontent.com/a/default-user=s64",
      "userId": "18353716469576030948"
     },
     "user_tz": -540
    },
    "id": "mEzYYQU_m2TG"
   },
   "outputs": [],
   "source": [
    "# embedding\n",
    "def sent2vec_glove(tokens, embedding_dim=128):\n",
    "    '''문장 token 리스트를 받아서 임베딩 시킨다.'''\n",
    "  \n",
    "    size = len(tokens)\n",
    "    matrix = np.zeros((size, embedding_dim))\n",
    "    word_table = word_dict     # glove word_dict\n",
    "\n",
    "    for i, token in enumerate(tokens):\n",
    "        vector = np.array([\n",
    "            word_table[t] for t in token\n",
    "            if t in word_table\n",
    "        ])\n",
    "\n",
    "        if vector.size != 0:\n",
    "            final_vector = np.mean(vector, axis=0)\n",
    "            matrix[i] = final_vector\n",
    "\n",
    "    return matrix"
   ]
  },
  {
   "cell_type": "code",
   "execution_count": 14,
   "metadata": {
    "colab": {
     "base_uri": "https://localhost:8080/"
    },
    "executionInfo": {
     "elapsed": 5565,
     "status": "ok",
     "timestamp": 1636348745896,
     "user": {
      "displayName": "성균관대학교이해인",
      "photoUrl": "https://lh3.googleusercontent.com/a/default-user=s64",
      "userId": "18353716469576030948"
     },
     "user_tz": -540
    },
    "id": "uczLR1upm23w",
    "outputId": "9b50af85-6823-4798-b00d-30f89b82d95a"
   },
   "outputs": [
    {
     "data": {
      "text/plain": [
       "(31312, 128)"
      ]
     },
     "execution_count": 14,
     "metadata": {},
     "output_type": "execute_result"
    }
   ],
   "source": [
    "# 문장 임베딩\n",
    "sentence_glove = sent2vec_glove(reviews)\n",
    "sentence_glove.shape"
   ]
  },
  {
   "cell_type": "code",
   "execution_count": 15,
   "metadata": {
    "executionInfo": {
     "elapsed": 55,
     "status": "ok",
     "timestamp": 1636348745902,
     "user": {
      "displayName": "성균관대학교이해인",
      "photoUrl": "https://lh3.googleusercontent.com/a/default-user=s64",
      "userId": "18353716469576030948"
     },
     "user_tz": -540
    },
    "id": "xQMjeUB8q4Md"
   },
   "outputs": [],
   "source": [
    "from sklearn.model_selection import train_test_split\n",
    "import numpy as np\n",
    "\n",
    "x_train = sentence_glove\n",
    "y_train = np.array(sentiments)"
   ]
  },
  {
   "cell_type": "code",
   "execution_count": 16,
   "metadata": {
    "executionInfo": {
     "elapsed": 789325,
     "status": "ok",
     "timestamp": 1636349535183,
     "user": {
      "displayName": "성균관대학교이해인",
      "photoUrl": "https://lh3.googleusercontent.com/a/default-user=s64",
      "userId": "18353716469576030948"
     },
     "user_tz": -540
    },
    "id": "9wQmqlQsmc8H"
   },
   "outputs": [
    {
     "name": "stdout",
     "output_type": "stream",
     "text": [
      "Fitting 5 folds for each of 27 candidates, totalling 135 fits\n"
     ]
    },
    {
     "name": "stderr",
     "output_type": "stream",
     "text": [
      "C:\\Users\\DSSAL\\Anaconda3\\lib\\site-packages\\cupy\\_environment.py:214: UserWarning: CUDA path could not be detected. Set CUDA_PATH environment variable if CuPy fails to load.\n",
      "  'CUDA path could not be detected.'\n",
      "C:\\Users\\DSSAL\\Anaconda3\\lib\\site-packages\\xgboost\\sklearn.py:1224: UserWarning: The use of label encoder in XGBClassifier is deprecated and will be removed in a future release. To remove this warning, do the following: 1) Pass option use_label_encoder=False when constructing XGBClassifier object; and 2) Encode your labels (y) as integers starting with 0, i.e. 0, 1, 2, ..., [num_class - 1].\n",
      "  warnings.warn(label_encoder_deprecation_msg, UserWarning)\n"
     ]
    },
    {
     "name": "stdout",
     "output_type": "stream",
     "text": [
      "[20:23:51] WARNING: C:/Users/Administrator/workspace/xgboost-win64_release_1.5.1/src/learner.cc:1115: Starting in XGBoost 1.3.0, the default evaluation metric used with the objective 'binary:logistic' was changed from 'error' to 'logloss'. Explicitly set eval_metric if you'd like to restore the old behavior.\n"
     ]
    }
   ],
   "source": [
    "# 하이퍼 파라미터 튜닝 및 XGboost 훈련\n",
    "from sklearn.model_selection import GridSearchCV\n",
    "\n",
    "xgb = XGBClassifier(random_state=82, n_estimators = 100, learning_rate=0.2, max_depth=4)\n",
    "\n",
    "xgb_param_grid = {\n",
    "    'n_estimators' : [200, 600, 1000], #200, 400, 600\n",
    "    'learning_rate' : [0.05, 0.1, 0.2], #, 0.05, 0.1, 0.15, 0.2\n",
    "    'max_depth' : [4, 6, 8] #4, 6, 8, 12\n",
    "}\n",
    "\n",
    "xgb = GridSearchCV(xgb, param_grid = xgb_param_grid, scoring = 'accuracy', n_jobs=-1, verbose=3, cv=5)\n",
    "#n_jobs = XGBoost를 실행하는데 사용되는 병렬 스레드 수\n",
    "\n",
    "# 단어 묶음을 벡터화한 데이터와 정답 데이터를 가지고 학습을 시작한다.\n",
    "bst = xgb.fit(x_train, y_train, verbose=3)"
   ]
  },
  {
   "cell_type": "code",
   "execution_count": 17,
   "metadata": {
    "colab": {
     "base_uri": "https://localhost:8080/"
    },
    "executionInfo": {
     "elapsed": 3562,
     "status": "ok",
     "timestamp": 1636349538715,
     "user": {
      "displayName": "성균관대학교이해인",
      "photoUrl": "https://lh3.googleusercontent.com/a/default-user=s64",
      "userId": "18353716469576030948"
     },
     "user_tz": -540
    },
    "id": "ZSvIk_KSmc8J",
    "outputId": "0405bf51-b209-4f1c-912c-d4221e908f94"
   },
   "outputs": [
    {
     "name": "stdout",
     "output_type": "stream",
     "text": [
      "Accuracy: 0.843319\n"
     ]
    }
   ],
   "source": [
    "print(\"Accuracy: %f\" %  xgb.score(x_train, y_train))"
   ]
  },
  {
   "cell_type": "code",
   "execution_count": 18,
   "metadata": {
    "executionInfo": {
     "elapsed": 2292,
     "status": "ok",
     "timestamp": 1636349541003,
     "user": {
      "displayName": "성균관대학교이해인",
      "photoUrl": "https://lh3.googleusercontent.com/a/default-user=s64",
      "userId": "18353716469576030948"
     },
     "user_tz": -540
    },
    "id": "5PKXzUecmc8N"
   },
   "outputs": [],
   "source": [
    "sentence_glove = sent2vec_glove(test_reviews)\n",
    "\n",
    "test_input = sentence_glove"
   ]
  },
  {
   "cell_type": "code",
   "execution_count": 19,
   "metadata": {
    "executionInfo": {
     "elapsed": 13,
     "status": "ok",
     "timestamp": 1636349541004,
     "user": {
      "displayName": "성균관대학교이해인",
      "photoUrl": "https://lh3.googleusercontent.com/a/default-user=s64",
      "userId": "18353716469576030948"
     },
     "user_tz": -540
    },
    "id": "eDp8zuMUmc8O"
   },
   "outputs": [],
   "source": [
    "realAnswer = list(test_data['sentiment'])\n",
    "test_label = np.array(realAnswer)"
   ]
  },
  {
   "cell_type": "code",
   "execution_count": 20,
   "metadata": {
    "colab": {
     "base_uri": "https://localhost:8080/"
    },
    "executionInfo": {
     "elapsed": 1334,
     "status": "ok",
     "timestamp": 1636349542330,
     "user": {
      "displayName": "성균관대학교이해인",
      "photoUrl": "https://lh3.googleusercontent.com/a/default-user=s64",
      "userId": "18353716469576030948"
     },
     "user_tz": -540
    },
    "id": "u4gIO-vbmc8N",
    "outputId": "bad5baf4-f150-4222-bdb2-db9a6cf9ed51"
   },
   "outputs": [
    {
     "name": "stderr",
     "output_type": "stream",
     "text": [
      "C:\\Users\\DSSAL\\Anaconda3\\lib\\site-packages\\cupy\\_environment.py:214: UserWarning: CUDA path could not be detected. Set CUDA_PATH environment variable if CuPy fails to load.\n",
      "  'CUDA path could not be detected.'\n"
     ]
    },
    {
     "data": {
      "text/plain": [
       "0.7713260135135135"
      ]
     },
     "execution_count": 20,
     "metadata": {},
     "output_type": "execute_result"
    }
   ],
   "source": [
    "from sklearn.metrics import accuracy_score, confusion_matrix, classification_report\n",
    "\n",
    "y_pred = xgb.predict(test_input)\n",
    "predictions = [round(value) for value in y_pred]\n",
    "\n",
    "accuracy_score(test_label, predictions)"
   ]
  },
  {
   "cell_type": "code",
   "execution_count": 21,
   "metadata": {
    "colab": {
     "base_uri": "https://localhost:8080/",
     "height": 344
    },
    "executionInfo": {
     "elapsed": 616,
     "status": "ok",
     "timestamp": 1636349542901,
     "user": {
      "displayName": "성균관대학교이해인",
      "photoUrl": "https://lh3.googleusercontent.com/a/default-user=s64",
      "userId": "18353716469576030948"
     },
     "user_tz": -540
    },
    "id": "4JRZwDwcmc8O",
    "outputId": "3e2287f8-4683-4471-c3f4-73e92c21a8c0"
   },
   "outputs": [
    {
     "data": {
      "text/plain": [
       "Text(0.5, 257.44, 'Predicted label')"
      ]
     },
     "execution_count": 21,
     "metadata": {},
     "output_type": "execute_result"
    },
    {
     "data": {
      "image/png": "[encoded data removed]",
      "text/plain": [
       "<Figure size 432x288 with 2 Axes>"
      ]
     },
     "metadata": {
      "needs_background": "light"
     },
     "output_type": "display_data"
    }
   ],
   "source": [
    "cnf_matrix = metrics.confusion_matrix(test_label, predictions)\n",
    "\n",
    "class_names=[0,1] # name  of classes\n",
    "fig, ax = plt.subplots()\n",
    "tick_marks = np.arange(len(class_names))\n",
    "plt.xticks(tick_marks, class_names)\n",
    "plt.yticks(tick_marks, class_names)\n",
    "# create heatmap\n",
    "sns.heatmap(pd.DataFrame(cnf_matrix), annot=True, cmap=\"YlGnBu\" ,fmt='g')\n",
    "ax.xaxis.set_label_position(\"top\")\n",
    "plt.tight_layout()\n",
    "plt.title('Confusion matrix', y=1.1)\n",
    "plt.ylabel('Actual label')\n",
    "plt.xlabel('Predicted label')"
   ]
  },
  {
   "cell_type": "code",
   "execution_count": 22,
   "metadata": {
    "colab": {
     "base_uri": "https://localhost:8080/"
    },
    "executionInfo": {
     "elapsed": 41,
     "status": "ok",
     "timestamp": 1636349542914,
     "user": {
      "displayName": "성균관대학교이해인",
      "photoUrl": "https://lh3.googleusercontent.com/a/default-user=s64",
      "userId": "18353716469576030948"
     },
     "user_tz": -540
    },
    "id": "UofrA37-ynQC",
    "outputId": "6da9ec8d-533d-4ad6-f056-43ecff942d14"
   },
   "outputs": [
    {
     "name": "stdout",
     "output_type": "stream",
     "text": [
      "Accuracy: 0.7713260135135135\n",
      "Precision: 0.7885911064530619\n",
      "Recall: 0.7414132882882883\n"
     ]
    }
   ],
   "source": [
    "print(\"Accuracy:\",metrics.accuracy_score(test_label, predictions))\n",
    "print(\"Precision:\",metrics.precision_score(test_label, predictions))\n",
    "print(\"Recall:\",metrics.recall_score(test_label, predictions))"
   ]
  },
  {
   "cell_type": "code",
   "execution_count": 23,
   "metadata": {
    "executionInfo": {
     "elapsed": 24,
     "status": "ok",
     "timestamp": 1636349544594,
     "user": {
      "displayName": "성균관대학교이해인",
      "photoUrl": "https://lh3.googleusercontent.com/a/default-user=s64",
      "userId": "18353716469576030948"
     },
     "user_tz": -540
    },
    "id": "Ybp2059V9Wqo"
   },
   "outputs": [],
   "source": [
    "import joblib\n",
    "\n",
    "# 모델 저장\n",
    "joblib.dump(xgb, 'C:/Users/DSSAL/Downloads/XGB_mobilehealth/xgb_glove_with_gridsearch_beforeCovid.pkl')\n",
    "\n",
    "# 모델 불러오기\n",
    "xgb_model = joblib.load('C:/Users/DSSAL/Downloads/XGB_mobilehealth/xgb_glove_with_gridsearch_beforeCovid.pkl')"
   ]
  },
  {
   "cell_type": "code",
   "execution_count": 24,
   "metadata": {
    "colab": {
     "base_uri": "https://localhost:8080/"
    },
    "executionInfo": {
     "elapsed": 28,
     "status": "ok",
     "timestamp": 1636349542916,
     "user": {
      "displayName": "성균관대학교이해인",
      "photoUrl": "https://lh3.googleusercontent.com/a/default-user=s64",
      "userId": "18353716469576030948"
     },
     "user_tz": -540
    },
    "id": "V1tTJ3dxJfte",
    "outputId": "f2764646-53d8-4c97-af0b-d4181e75bebc"
   },
   "outputs": [
    {
     "data": {
      "text/plain": [
       "GridSearchCV(cv=5,\n",
       "             estimator=XGBClassifier(base_score=None, booster=None,\n",
       "                                     colsample_bylevel=None,\n",
       "                                     colsample_bynode=None,\n",
       "                                     colsample_bytree=None,\n",
       "                                     enable_categorical=False, gamma=None,\n",
       "                                     gpu_id=None, importance_type=None,\n",
       "                                     interaction_constraints=None,\n",
       "                                     learning_rate=0.2, max_delta_step=None,\n",
       "                                     max_depth=4, min_child_weight=None,\n",
       "                                     missing=nan, monotone_constraints=None,\n",
       "                                     n_estimators=100, n_jobs=None,\n",
       "                                     num_parallel_tree=None, predictor=None,\n",
       "                                     random_state=82, reg_alpha=None,\n",
       "                                     reg_lambda=None, scale_pos_weight=None,\n",
       "                                     subsample=None, tree_method=None,\n",
       "                                     validate_parameters=None, verbosity=None),\n",
       "             n_jobs=-1,\n",
       "             param_grid={'learning_rate': [0.05, 0.1, 0.2],\n",
       "                         'max_depth': [4, 6, 8],\n",
       "                         'n_estimators': [200, 600, 1000]},\n",
       "             scoring='accuracy', verbose=3)"
      ]
     },
     "execution_count": 24,
     "metadata": {},
     "output_type": "execute_result"
    }
   ],
   "source": [
    "xgb_model"
   ]
  },
  {
   "cell_type": "code",
   "execution_count": 25,
   "metadata": {
    "colab": {
     "base_uri": "https://localhost:8080/"
    },
    "executionInfo": {
     "elapsed": 1697,
     "status": "ok",
     "timestamp": 1636349544590,
     "user": {
      "displayName": "성균관대학교이해인",
      "photoUrl": "https://lh3.googleusercontent.com/a/default-user=s64",
      "userId": "18353716469576030948"
     },
     "user_tz": -540
    },
    "id": "b9s02HoyJf0r",
    "outputId": "f07ec0ea-6502-43c0-92b3-fd4534e7f3e4"
   },
   "outputs": [
    {
     "name": "stderr",
     "output_type": "stream",
     "text": [
      "C:\\Users\\DSSAL\\Anaconda3\\lib\\site-packages\\cupy\\_environment.py:214: UserWarning: CUDA path could not be detected. Set CUDA_PATH environment variable if CuPy fails to load.\n",
      "  'CUDA path could not be detected.'\n"
     ]
    },
    {
     "data": {
      "text/plain": [
       "0.7713260135135135"
      ]
     },
     "execution_count": 25,
     "metadata": {},
     "output_type": "execute_result"
    }
   ],
   "source": [
    "from sklearn.metrics import accuracy_score, confusion_matrix, classification_report\n",
    "\n",
    "y_pred = xgb_model.predict(test_input)\n",
    "predictions = [value for value in y_pred]\n",
    "\n",
    "accuracy_score(test_label, predictions)"
   ]
  },
  {
   "cell_type": "code",
   "execution_count": 26,
   "metadata": {
    "colab": {
     "base_uri": "https://localhost:8080/",
     "height": 206
    },
    "executionInfo": {
     "elapsed": 29,
     "status": "ok",
     "timestamp": 1636349544591,
     "user": {
      "displayName": "성균관대학교이해인",
      "photoUrl": "https://lh3.googleusercontent.com/a/default-user=s64",
      "userId": "18353716469576030948"
     },
     "user_tz": -540
    },
    "id": "jcGqRmauJh4j",
    "outputId": "1a85cbee-13cf-471f-81fd-1557f3918573"
   },
   "outputs": [
    {
     "data": {
      "text/html": [
       "<div>\n",
       "<style scoped>\n",
       "    .dataframe tbody tr th:only-of-type {\n",
       "        vertical-align: middle;\n",
       "    }\n",
       "\n",
       "    .dataframe tbody tr th {\n",
       "        vertical-align: top;\n",
       "    }\n",
       "\n",
       "    .dataframe thead th {\n",
       "        text-align: right;\n",
       "    }\n",
       "</style>\n",
       "<table border=\"1\" class=\"dataframe\">\n",
       "  <thead>\n",
       "    <tr style=\"text-align: right;\">\n",
       "      <th></th>\n",
       "      <th>precision</th>\n",
       "      <th>recall</th>\n",
       "      <th>f1-score</th>\n",
       "      <th>support</th>\n",
       "    </tr>\n",
       "  </thead>\n",
       "  <tbody>\n",
       "    <tr>\n",
       "      <th>class low</th>\n",
       "      <td>0.756010</td>\n",
       "      <td>0.801239</td>\n",
       "      <td>0.777968</td>\n",
       "      <td>7104.000000</td>\n",
       "    </tr>\n",
       "    <tr>\n",
       "      <th>class high</th>\n",
       "      <td>0.788591</td>\n",
       "      <td>0.741413</td>\n",
       "      <td>0.764275</td>\n",
       "      <td>7104.000000</td>\n",
       "    </tr>\n",
       "    <tr>\n",
       "      <th>accuracy</th>\n",
       "      <td>0.771326</td>\n",
       "      <td>0.771326</td>\n",
       "      <td>0.771326</td>\n",
       "      <td>0.771326</td>\n",
       "    </tr>\n",
       "    <tr>\n",
       "      <th>macro avg</th>\n",
       "      <td>0.772301</td>\n",
       "      <td>0.771326</td>\n",
       "      <td>0.771121</td>\n",
       "      <td>14208.000000</td>\n",
       "    </tr>\n",
       "    <tr>\n",
       "      <th>weighted avg</th>\n",
       "      <td>0.772301</td>\n",
       "      <td>0.771326</td>\n",
       "      <td>0.771121</td>\n",
       "      <td>14208.000000</td>\n",
       "    </tr>\n",
       "  </tbody>\n",
       "</table>\n",
       "</div>"
      ],
      "text/plain": [
       "              precision    recall  f1-score       support\n",
       "class low      0.756010  0.801239  0.777968   7104.000000\n",
       "class high     0.788591  0.741413  0.764275   7104.000000\n",
       "accuracy       0.771326  0.771326  0.771326      0.771326\n",
       "macro avg      0.772301  0.771326  0.771121  14208.000000\n",
       "weighted avg   0.772301  0.771326  0.771121  14208.000000"
      ]
     },
     "execution_count": 26,
     "metadata": {},
     "output_type": "execute_result"
    }
   ],
   "source": [
    "from sklearn.metrics import classification_report\n",
    "\n",
    "report = classification_report(test_label, y_pred, target_names=['class low', 'class high'], output_dict=True)\n",
    "df = pd.DataFrame(report).transpose()\n",
    "\n",
    "df"
   ]
  },
  {
   "cell_type": "code",
   "execution_count": 27,
   "metadata": {
    "executionInfo": {
     "elapsed": 27,
     "status": "ok",
     "timestamp": 1636349544593,
     "user": {
      "displayName": "성균관대학교이해인",
      "photoUrl": "https://lh3.googleusercontent.com/a/default-user=s64",
      "userId": "18353716469576030948"
     },
     "user_tz": -540
    },
    "id": "7fyG4OErfxtL"
   },
   "outputs": [
    {
     "data": {
      "text/plain": [
       "{'learning_rate': 0.05, 'max_depth': 4, 'n_estimators': 1000}"
      ]
     },
     "execution_count": 27,
     "metadata": {},
     "output_type": "execute_result"
    }
   ],
   "source": [
    "xgb.best_params_"
   ]
  },
  {
   "cell_type": "code",
   "execution_count": null,
   "metadata": {},
   "outputs": [],
   "source": []
  }
 ],
 "metadata": {
  "accelerator": "GPU",
  "colab": {
   "collapsed_sections": [],
   "name": "XGboost with glove.ipynb",
   "provenance": []
  },
  "kernelspec": {
   "display_name": "Python 3",
   "language": "python",
   "name": "python3"
  },
  "language_info": {
   "codemirror_mode": {
    "name": "ipython",
    "version": 3
   },
   "file_extension": ".py",
   "mimetype": "text/x-python",
   "name": "python",
   "nbconvert_exporter": "python",
   "pygments_lexer": "ipython3",
   "version": "3.7.7"
  }
 },
 "nbformat": 4,
 "nbformat_minor": 1
}
